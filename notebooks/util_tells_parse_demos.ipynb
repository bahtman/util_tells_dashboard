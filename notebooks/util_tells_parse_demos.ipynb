{
 "cells": [
  {
   "cell_type": "code",
   "execution_count": 2,
   "id": "11de4147",
   "metadata": {},
   "outputs": [
    {
     "name": "stdout",
     "output_type": "stream",
     "text": [
      "The autoreload extension is already loaded. To reload it, use:\n",
      "  %reload_ext autoreload\n"
     ]
    }
   ],
   "source": [
    "%load_ext autoreload\n",
    "%autoreload 2"
   ]
  },
  {
   "cell_type": "code",
   "execution_count": 3,
   "id": "8d7ad862",
   "metadata": {},
   "outputs": [],
   "source": [
    "from awpy import Demo\n",
    "import os\n",
    "import uuid\n",
    "from cs_bahtml.radars import RADARS\n",
    "from cs_bahtml.plotting import position_transform, add_player"
   ]
  },
  {
   "cell_type": "code",
   "execution_count": 3,
   "id": "faa79351",
   "metadata": {},
   "outputs": [],
   "source": [
    "dem = Demo(file=\"..\\\\..\\\\demos\\\\astralis-vs-faze-m1-nuke.dem\")"
   ]
  },
  {
   "cell_type": "code",
   "execution_count": 17,
   "id": "eaa2b002",
   "metadata": {},
   "outputs": [
    {
     "data": {
      "text/plain": [
       "113780    4400\n",
       "113781    4600\n",
       "113782    4000\n",
       "113783    3850\n",
       "113784    5600\n",
       "113785    5500\n",
       "113786    5500\n",
       "113787    4600\n",
       "113788    4600\n",
       "113789    4200\n",
       "Name: current_equip_value, dtype: uint32"
      ]
     },
     "execution_count": 17,
     "metadata": {},
     "output_type": "execute_result"
    }
   ],
   "source": [
    "dem.ticks.query(\"tick == 11378\").current_equip_value"
   ]
  },
  {
   "cell_type": "code",
   "execution_count": 10,
   "id": "200d7543",
   "metadata": {},
   "outputs": [
    {
     "ename": "AttributeError",
     "evalue": "'str' object has no attribute 'ticks'",
     "output_type": "error",
     "traceback": [
      "\u001b[1;31m---------------------------------------------------------------------------\u001b[0m",
      "\u001b[1;31mAttributeError\u001b[0m                            Traceback (most recent call last)",
      "Cell \u001b[1;32mIn[10], line 1\u001b[0m\n\u001b[1;32m----> 1\u001b[0m \u001b[43mdem\u001b[49m\u001b[38;5;241;43m.\u001b[39;49m\u001b[43mticks\u001b[49m\n",
      "\u001b[1;31mAttributeError\u001b[0m: 'str' object has no attribute 'ticks'"
     ]
    }
   ],
   "source": [
    "dem.ticks"
   ]
  },
  {
   "cell_type": "code",
   "execution_count": null,
   "id": "020fe953",
   "metadata": {},
   "outputs": [],
   "source": []
  },
  {
   "cell_type": "code",
   "execution_count": 42,
   "id": "43289c9d",
   "metadata": {},
   "outputs": [
    {
     "data": {
      "text/plain": [
       "6.328125"
      ]
     },
     "execution_count": 42,
     "metadata": {},
     "output_type": "execute_result"
    }
   ],
   "source": [
    "(11783-11378)/64"
   ]
  },
  {
   "cell_type": "code",
   "execution_count": 30,
   "id": "af1aa5bd",
   "metadata": {},
   "outputs": [
    {
     "data": {
      "text/html": [
       "<div>\n",
       "<style scoped>\n",
       "    .dataframe tbody tr th:only-of-type {\n",
       "        vertical-align: middle;\n",
       "    }\n",
       "\n",
       "    .dataframe tbody tr th {\n",
       "        vertical-align: top;\n",
       "    }\n",
       "\n",
       "    .dataframe thead th {\n",
       "        text-align: right;\n",
       "    }\n",
       "</style>\n",
       "<table border=\"1\" class=\"dataframe\">\n",
       "  <thead>\n",
       "    <tr style=\"text-align: right;\">\n",
       "      <th></th>\n",
       "      <th>thrower_steamid</th>\n",
       "      <th>thrower</th>\n",
       "      <th>grenade_type</th>\n",
       "      <th>tick</th>\n",
       "      <th>X</th>\n",
       "      <th>Y</th>\n",
       "      <th>Z</th>\n",
       "      <th>entity_id</th>\n",
       "      <th>round</th>\n",
       "    </tr>\n",
       "  </thead>\n",
       "  <tbody>\n",
       "    <tr>\n",
       "      <th>8239</th>\n",
       "      <td>76561197987713664</td>\n",
       "      <td>device</td>\n",
       "      <td>incendiary_grenade</td>\n",
       "      <td>11783</td>\n",
       "      <td>1643.15625</td>\n",
       "      <td>-1226.09375</td>\n",
       "      <td>-329.28125</td>\n",
       "      <td>121</td>\n",
       "      <td>3</td>\n",
       "    </tr>\n",
       "    <tr>\n",
       "      <th>8241</th>\n",
       "      <td>76561197987713664</td>\n",
       "      <td>device</td>\n",
       "      <td>incendiary_grenade</td>\n",
       "      <td>11784</td>\n",
       "      <td>1630.75</td>\n",
       "      <td>-1232.6875</td>\n",
       "      <td>-324.375</td>\n",
       "      <td>121</td>\n",
       "      <td>3</td>\n",
       "    </tr>\n",
       "    <tr>\n",
       "      <th>8243</th>\n",
       "      <td>76561197987713664</td>\n",
       "      <td>device</td>\n",
       "      <td>incendiary_grenade</td>\n",
       "      <td>11785</td>\n",
       "      <td>1618.3125</td>\n",
       "      <td>-1239.28125</td>\n",
       "      <td>-319.53125</td>\n",
       "      <td>121</td>\n",
       "      <td>3</td>\n",
       "    </tr>\n",
       "    <tr>\n",
       "      <th>8245</th>\n",
       "      <td>76561197987713664</td>\n",
       "      <td>device</td>\n",
       "      <td>incendiary_grenade</td>\n",
       "      <td>11786</td>\n",
       "      <td>1605.90625</td>\n",
       "      <td>-1245.875</td>\n",
       "      <td>-314.8125</td>\n",
       "      <td>121</td>\n",
       "      <td>3</td>\n",
       "    </tr>\n",
       "    <tr>\n",
       "      <th>8247</th>\n",
       "      <td>76561197987713664</td>\n",
       "      <td>device</td>\n",
       "      <td>incendiary_grenade</td>\n",
       "      <td>11787</td>\n",
       "      <td>1593.46875</td>\n",
       "      <td>-1252.46875</td>\n",
       "      <td>-310.125</td>\n",
       "      <td>121</td>\n",
       "      <td>3</td>\n",
       "    </tr>\n",
       "    <tr>\n",
       "      <th>...</th>\n",
       "      <td>...</td>\n",
       "      <td>...</td>\n",
       "      <td>...</td>\n",
       "      <td>...</td>\n",
       "      <td>...</td>\n",
       "      <td>...</td>\n",
       "      <td>...</td>\n",
       "      <td>...</td>\n",
       "      <td>...</td>\n",
       "    </tr>\n",
       "    <tr>\n",
       "      <th>8580</th>\n",
       "      <td>76561197987713664</td>\n",
       "      <td>device</td>\n",
       "      <td>incendiary_grenade</td>\n",
       "      <td>11907</td>\n",
       "      <td>103.1875</td>\n",
       "      <td>-2043.75</td>\n",
       "      <td>-317.1875</td>\n",
       "      <td>121</td>\n",
       "      <td>3</td>\n",
       "    </tr>\n",
       "    <tr>\n",
       "      <th>8586</th>\n",
       "      <td>76561197987713664</td>\n",
       "      <td>device</td>\n",
       "      <td>incendiary_grenade</td>\n",
       "      <td>11908</td>\n",
       "      <td>90.78125</td>\n",
       "      <td>-2050.34375</td>\n",
       "      <td>-321.96875</td>\n",
       "      <td>121</td>\n",
       "      <td>3</td>\n",
       "    </tr>\n",
       "    <tr>\n",
       "      <th>8592</th>\n",
       "      <td>76561197987713664</td>\n",
       "      <td>device</td>\n",
       "      <td>incendiary_grenade</td>\n",
       "      <td>11909</td>\n",
       "      <td>78.34375</td>\n",
       "      <td>-2056.9375</td>\n",
       "      <td>-326.84375</td>\n",
       "      <td>121</td>\n",
       "      <td>3</td>\n",
       "    </tr>\n",
       "    <tr>\n",
       "      <th>8598</th>\n",
       "      <td>76561197987713664</td>\n",
       "      <td>device</td>\n",
       "      <td>incendiary_grenade</td>\n",
       "      <td>11910</td>\n",
       "      <td>65.9375</td>\n",
       "      <td>-2063.53125</td>\n",
       "      <td>-331.78125</td>\n",
       "      <td>121</td>\n",
       "      <td>3</td>\n",
       "    </tr>\n",
       "    <tr>\n",
       "      <th>8604</th>\n",
       "      <td>76561197987713664</td>\n",
       "      <td>device</td>\n",
       "      <td>incendiary_grenade</td>\n",
       "      <td>11911</td>\n",
       "      <td>53.5</td>\n",
       "      <td>-2070.125</td>\n",
       "      <td>-336.78125</td>\n",
       "      <td>121</td>\n",
       "      <td>3</td>\n",
       "    </tr>\n",
       "  </tbody>\n",
       "</table>\n",
       "<p>129 rows × 9 columns</p>\n",
       "</div>"
      ],
      "text/plain": [
       "        thrower_steamid thrower        grenade_type   tick           X  \\\n",
       "8239  76561197987713664  device  incendiary_grenade  11783  1643.15625   \n",
       "8241  76561197987713664  device  incendiary_grenade  11784     1630.75   \n",
       "8243  76561197987713664  device  incendiary_grenade  11785   1618.3125   \n",
       "8245  76561197987713664  device  incendiary_grenade  11786  1605.90625   \n",
       "8247  76561197987713664  device  incendiary_grenade  11787  1593.46875   \n",
       "...                 ...     ...                 ...    ...         ...   \n",
       "8580  76561197987713664  device  incendiary_grenade  11907    103.1875   \n",
       "8586  76561197987713664  device  incendiary_grenade  11908    90.78125   \n",
       "8592  76561197987713664  device  incendiary_grenade  11909    78.34375   \n",
       "8598  76561197987713664  device  incendiary_grenade  11910     65.9375   \n",
       "8604  76561197987713664  device  incendiary_grenade  11911        53.5   \n",
       "\n",
       "               Y          Z  entity_id  round  \n",
       "8239 -1226.09375 -329.28125        121      3  \n",
       "8241  -1232.6875   -324.375        121      3  \n",
       "8243 -1239.28125 -319.53125        121      3  \n",
       "8245   -1245.875  -314.8125        121      3  \n",
       "8247 -1252.46875   -310.125        121      3  \n",
       "...          ...        ...        ...    ...  \n",
       "8580    -2043.75  -317.1875        121      3  \n",
       "8586 -2050.34375 -321.96875        121      3  \n",
       "8592  -2056.9375 -326.84375        121      3  \n",
       "8598 -2063.53125 -331.78125        121      3  \n",
       "8604   -2070.125 -336.78125        121      3  \n",
       "\n",
       "[129 rows x 9 columns]"
      ]
     },
     "execution_count": 30,
     "metadata": {},
     "output_type": "execute_result"
    }
   ],
   "source": [
    "dem.grenades.query(\"thrower == 'device' and entity_id == '121'\")"
   ]
  },
  {
   "cell_type": "code",
   "execution_count": 31,
   "id": "6f98a26a",
   "metadata": {},
   "outputs": [
    {
     "data": {
      "text/plain": [
       "128"
      ]
     },
     "execution_count": 31,
     "metadata": {},
     "output_type": "execute_result"
    }
   ],
   "source": [
    "11911-11783"
   ]
  },
  {
   "cell_type": "code",
   "execution_count": 4,
   "id": "82107aa8",
   "metadata": {},
   "outputs": [],
   "source": [
    "map = \"de_ancient\"\n",
    "radar = RADARS[map].copy()\n",
    "radar.show()\n"
   ]
  },
  {
   "cell_type": "code",
   "execution_count": 9,
   "id": "2fbd7228",
   "metadata": {},
   "outputs": [],
   "source": [
    "radar = RADARS[map].copy()\n",
    "# Create a draw object\n",
    "# Define the coordinates of the dot\n",
    "x, y = -808.5625, -664.84375\n",
    "player_rad = position_transform(map, 60, \"x\") - position_transform(map, 0, \"x\")\n",
    "radar = add_player(radar, position_transform(map,x,\"x\"), position_transform(map,y,\"y\"), player_rad, \"t\")\n",
    "# Show the image with the dot\n",
    "radar.show()"
   ]
  },
  {
   "cell_type": "code",
   "execution_count": 5,
   "id": "d501de1b",
   "metadata": {},
   "outputs": [],
   "source": [
    "def parse_demo(demo_object,maximum_roundtime = 120,rotate_seconds = 10):\n",
    "    map_name = demo_object.header.map_name\n",
    "    tick_rate = 64\n",
    "    grenades_df = demo_object.grenades\n",
    "    interesting_grenades = [\"smoke\",\"molotov\",\"incendiary_grenade\"]\n",
    "    grenades_df = grenades_df[grenades_df.grenade_type.isin(interesting_grenades)]\n",
    "    grenades_df.loc[grenades_df['grenade_type'] == 'incendiary_grenade', 'grenade_type'] = 'molotov'\n",
    "    tick_df = demo_object.ticks\n",
    "    team_info = tick_df.groupby([\"round\",\"side\"]).first()['clan'].reset_index()\n",
    "    round_df = demo_object.rounds\n",
    "    buy_df = tick_df.merge(round_df['freeze_end'], left_on='tick', right_on='freeze_end', how='left')\n",
    "    buy_df = buy_df.groupby(['round','side'])['current_equip_value'].mean().reset_index()\n",
    "    #TODO: Maybe also look at money to gauge whether its a force?\n",
    "    buy_df['buy_type'] = buy_df.current_equip_value.apply(lambda x: \"eco\" if x < 1000 else \"force\" if x < 3000 else \"full\")\n",
    "\n",
    "    out_df = grenades_df.groupby(['entity_id',\"round\"]).first().reset_index()\n",
    "    out_df['map_name'] = map_name\n",
    "    out_df = out_df.merge(round_df[[\"round\",\"freeze_end\"]], on='round', how='left')\n",
    "    out_df['throwSeconds'] = (out_df[\"tick\"] - out_df[\"freeze_end\"])/tick_rate\n",
    "    out_df = out_df.query(\"throwSeconds < @maximum_roundtime\") \n",
    "    \n",
    "    last_tick_grenade = grenades_df.groupby(['entity_id','round']).last().reset_index()\n",
    "    out_df = out_df.merge(last_tick_grenade, on=['entity_id','round'], how='left', suffixes=('', '_last_tick'))\n",
    "    out_df = out_df.merge(tick_df, left_on=['tick','thrower'], right_on=['tick', \"name\"], how='left', suffixes=('', '_thrower'))\n",
    "    out_df['throwCords'] = list(zip(out_df['X_thrower'], out_df['Y_thrower'], out_df['Z_thrower']))\n",
    "    out_df['landCords'] = list(zip(out_df['X_last_tick'], out_df['Y_last_tick'], out_df['Z_last_tick']))\n",
    "    out_df['throwerSide'] = out_df['side']\n",
    "    out_df['opponentSide'] = out_df['throwerSide'].apply(lambda x: \"TERRORIST\" if x == \"CT\" else \"CT\")\n",
    "    \n",
    "    out_df = out_df.merge(buy_df, on=['round','side'], how='left')\n",
    "    out_df = out_df.merge(buy_df, left_on=['round','opponentSide'],right_on=['round','side'], how='left', suffixes = (\"\",\"_opponentbuy\"))\n",
    "    out_df['throwerBuyType'] = out_df['buy_type']\n",
    "    out_df['opponentBuyType'] = out_df['buy_type_opponentbuy']\n",
    "    \n",
    "\n",
    "    out_df = out_df.merge(team_info, left_on = [\"round\",\"opponentSide\"], right_on = [\"round\", \"side\"], suffixes = (\"\",\"_opponent\"))\n",
    "    out_df['throwerTeam'] = out_df['clan']\n",
    "    out_df['opponentTeam'] = out_df['clan_opponent']\n",
    "    out_df['throwerName'] = out_df['thrower']\n",
    "    out_df['rotate_tick'] = out_df['tick']+rotate_seconds*tick_rate\n",
    "\n",
    "    player_df = out_df.merge(tick_df, left_on=['tick', 'throwerSide'], right_on=['tick', 'side'], how='left', suffixes=('', '_players_thrown'))\n",
    "    player_df = player_df.query(\"health>0\")\n",
    "    player_df['position_players_thrown'] = list(zip(player_df['X_players_thrown'], player_df['Y_players_thrown'], player_df['Z_players_thrown']))\n",
    "    starting_positions = player_df.groupby(['entity_id', 'round'])['position_players_thrown'].agg(list).reset_index(name=\"starting_positions\")\n",
    "    player_df = player_df.merge(tick_df, left_on=['rotate_tick', 'throwerSide', 'name_players_thrown'], right_on=['tick', 'side', 'name'], how='left', suffixes=('', '_players'))\n",
    "    player_df['position_players'] = list(zip(player_df['X_players'], player_df['Y_players'], player_df['Z_players']))\n",
    "    dead_player_df = player_df[player_df['health_players'] == 0].groupby(['entity_id', 'round'])['position_players'].agg(list).reset_index(name='dead_players')\n",
    "    alive_players_df = player_df[player_df['health_players'] > 0].groupby(['entity_id', 'round'])['position_players'].agg(list).reset_index(name='alive_players')\n",
    "    out_df = out_df.merge(dead_player_df, on=['entity_id', 'round'], how='left')\n",
    "    out_df = out_df.merge(alive_players_df, on=['entity_id', 'round'], how='left')\n",
    "    out_df = out_df.merge(starting_positions, on=['entity_id', 'round'], how='left')\n",
    "    out_df.dropna(subset=['alive_players'], inplace=True)\n",
    "    selected_columns = ['map_name', 'entity_id', 'round', 'throwSeconds','grenade_type', 'throwerName', 'throwerTeam', 'throwerBuyType','opponentTeam', 'opponentBuyType', 'throwerSide', 'throwCords', 'landCords', \"starting_positions\" ,'dead_players', 'alive_players']\n",
    "    return out_df[selected_columns]"
   ]
  },
  {
   "cell_type": "code",
   "execution_count": 32,
   "id": "299e2ae4",
   "metadata": {},
   "outputs": [
    {
     "data": {
      "text/html": [
       "<div>\n",
       "<style scoped>\n",
       "    .dataframe tbody tr th:only-of-type {\n",
       "        vertical-align: middle;\n",
       "    }\n",
       "\n",
       "    .dataframe tbody tr th {\n",
       "        vertical-align: top;\n",
       "    }\n",
       "\n",
       "    .dataframe thead th {\n",
       "        text-align: right;\n",
       "    }\n",
       "</style>\n",
       "<table border=\"1\" class=\"dataframe\">\n",
       "  <thead>\n",
       "    <tr style=\"text-align: right;\">\n",
       "      <th></th>\n",
       "      <th>map_name</th>\n",
       "      <th>entity_id</th>\n",
       "      <th>round</th>\n",
       "      <th>throwSeconds</th>\n",
       "      <th>grenade_type</th>\n",
       "      <th>throwerName</th>\n",
       "      <th>throwerTeam</th>\n",
       "      <th>throwerBuyType</th>\n",
       "      <th>opponentTeam</th>\n",
       "      <th>opponentBuyType</th>\n",
       "      <th>throwerSide</th>\n",
       "      <th>throwCords</th>\n",
       "      <th>landCords</th>\n",
       "      <th>starting_positions</th>\n",
       "      <th>dead_players</th>\n",
       "      <th>alive_players</th>\n",
       "    </tr>\n",
       "  </thead>\n",
       "  <tbody>\n",
       "    <tr>\n",
       "      <th>0</th>\n",
       "      <td>de_nuke</td>\n",
       "      <td>65</td>\n",
       "      <td>10</td>\n",
       "      <td>8.71875</td>\n",
       "      <td>smoke</td>\n",
       "      <td>br0</td>\n",
       "      <td>Astralis</td>\n",
       "      <td>full</td>\n",
       "      <td>FaZe Clan</td>\n",
       "      <td>full</td>\n",
       "      <td>CT</td>\n",
       "      <td>(840.4488525390625, 70.94966125488281, -415.96...</td>\n",
       "      <td>(112.40625, -326.4375, -413.96875)</td>\n",
       "      <td>[(946.9803466796875, -512.65771484375, -96.746...</td>\n",
       "      <td>NaN</td>\n",
       "      <td>[(675.0065307617188, -654.7633056640625, -206....</td>\n",
       "    </tr>\n",
       "    <tr>\n",
       "      <th>1</th>\n",
       "      <td>de_nuke</td>\n",
       "      <td>65</td>\n",
       "      <td>18</td>\n",
       "      <td>28.328125</td>\n",
       "      <td>smoke</td>\n",
       "      <td>device</td>\n",
       "      <td>Astralis</td>\n",
       "      <td>full</td>\n",
       "      <td>FaZe Clan</td>\n",
       "      <td>full</td>\n",
       "      <td>TERRORIST</td>\n",
       "      <td>(-1351.2012939453125, -1043.841796875, -370.96...</td>\n",
       "      <td>(1138.6875, -2040.9375, -413.96875)</td>\n",
       "      <td>[(51.53950881958008, -1027.559814453125, -415....</td>\n",
       "      <td>NaN</td>\n",
       "      <td>[(107.97000122070312, -1016.2108154296875, -41...</td>\n",
       "    </tr>\n",
       "    <tr>\n",
       "      <th>2</th>\n",
       "      <td>de_nuke</td>\n",
       "      <td>66</td>\n",
       "      <td>15</td>\n",
       "      <td>19.140625</td>\n",
       "      <td>molotov</td>\n",
       "      <td>rain</td>\n",
       "      <td>FaZe Clan</td>\n",
       "      <td>full</td>\n",
       "      <td>Astralis</td>\n",
       "      <td>full</td>\n",
       "      <td>CT</td>\n",
       "      <td>(1167.05517578125, -1296.9703369140625, -415.9...</td>\n",
       "      <td>(1230.15625, -2312.9375, -410.65625)</td>\n",
       "      <td>[(601.146240234375, -984.1541137695312, -415.9...</td>\n",
       "      <td>[(104.07331848144531, 136.4063262939453, -415....</td>\n",
       "      <td>[(596.6456298828125, -1100.789794921875, -365....</td>\n",
       "    </tr>\n",
       "    <tr>\n",
       "      <th>3</th>\n",
       "      <td>de_nuke</td>\n",
       "      <td>71</td>\n",
       "      <td>6</td>\n",
       "      <td>23.515625</td>\n",
       "      <td>molotov</td>\n",
       "      <td>stavn</td>\n",
       "      <td>Astralis</td>\n",
       "      <td>full</td>\n",
       "      <td>FaZe Clan</td>\n",
       "      <td>full</td>\n",
       "      <td>CT</td>\n",
       "      <td>(861.3890991210938, -1634.232177734375, -415.4...</td>\n",
       "      <td>(1210.71875, -2321.375, -413.375)</td>\n",
       "      <td>[(308.9505615234375, -561.36865234375, -127.96...</td>\n",
       "      <td>[(923.7300415039062, -1557.551025390625, -415....</td>\n",
       "      <td>[(316.55828857421875, -362.82666015625, -127.9...</td>\n",
       "    </tr>\n",
       "    <tr>\n",
       "      <th>4</th>\n",
       "      <td>de_nuke</td>\n",
       "      <td>92</td>\n",
       "      <td>17</td>\n",
       "      <td>19.421875</td>\n",
       "      <td>molotov</td>\n",
       "      <td>device</td>\n",
       "      <td>Astralis</td>\n",
       "      <td>full</td>\n",
       "      <td>FaZe Clan</td>\n",
       "      <td>force</td>\n",
       "      <td>TERRORIST</td>\n",
       "      <td>(417.908935546875, -1339.753173828125, -415.96...</td>\n",
       "      <td>(879.21875, -1664.59375, -412.96875)</td>\n",
       "      <td>[(544.7725830078125, -818.166015625, -399.9687...</td>\n",
       "      <td>[(619.3079223632812, -812.4690551757812, -415....</td>\n",
       "      <td>[(667.1747436523438, -768.351806640625, -415.9...</td>\n",
       "    </tr>\n",
       "    <tr>\n",
       "      <th>...</th>\n",
       "      <td>...</td>\n",
       "      <td>...</td>\n",
       "      <td>...</td>\n",
       "      <td>...</td>\n",
       "      <td>...</td>\n",
       "      <td>...</td>\n",
       "      <td>...</td>\n",
       "      <td>...</td>\n",
       "      <td>...</td>\n",
       "      <td>...</td>\n",
       "      <td>...</td>\n",
       "      <td>...</td>\n",
       "      <td>...</td>\n",
       "      <td>...</td>\n",
       "      <td>...</td>\n",
       "      <td>...</td>\n",
       "    </tr>\n",
       "    <tr>\n",
       "      <th>157</th>\n",
       "      <td>de_nuke</td>\n",
       "      <td>470</td>\n",
       "      <td>8</td>\n",
       "      <td>5.96875</td>\n",
       "      <td>smoke</td>\n",
       "      <td>rain</td>\n",
       "      <td>FaZe Clan</td>\n",
       "      <td>full</td>\n",
       "      <td>Astralis</td>\n",
       "      <td>full</td>\n",
       "      <td>TERRORIST</td>\n",
       "      <td>(-640.515380859375, -1418.1844482421875, -415....</td>\n",
       "      <td>(442.25, -2129.75, -413.96875)</td>\n",
       "      <td>[(-892.8883666992188, -1128.3846435546875, -41...</td>\n",
       "      <td>[(219.63461303710938, -2124.313720703125, -415...</td>\n",
       "      <td>[(320.7699890136719, -2034.265380859375, -415....</td>\n",
       "    </tr>\n",
       "    <tr>\n",
       "      <th>158</th>\n",
       "      <td>de_nuke</td>\n",
       "      <td>474</td>\n",
       "      <td>10</td>\n",
       "      <td>27.3125</td>\n",
       "      <td>smoke</td>\n",
       "      <td>karrigan</td>\n",
       "      <td>FaZe Clan</td>\n",
       "      <td>full</td>\n",
       "      <td>Astralis</td>\n",
       "      <td>full</td>\n",
       "      <td>TERRORIST</td>\n",
       "      <td>(-125.35107421875, -1183.811767578125, -110.79...</td>\n",
       "      <td>(963.9375, -446.6875, -125.96875)</td>\n",
       "      <td>[(-125.35107421875, -1183.811767578125, -110.7...</td>\n",
       "      <td>NaN</td>\n",
       "      <td>[(-370.3466796875, -1632.046142578125, -415.96...</td>\n",
       "    </tr>\n",
       "    <tr>\n",
       "      <th>159</th>\n",
       "      <td>de_nuke</td>\n",
       "      <td>474</td>\n",
       "      <td>21</td>\n",
       "      <td>8.609375</td>\n",
       "      <td>molotov</td>\n",
       "      <td>ropz</td>\n",
       "      <td>FaZe Clan</td>\n",
       "      <td>full</td>\n",
       "      <td>Astralis</td>\n",
       "      <td>force</td>\n",
       "      <td>CT</td>\n",
       "      <td>(922.6604614257812, 41.81367111206055, -415.96...</td>\n",
       "      <td>(106.46875, -124.5625, -413.46875)</td>\n",
       "      <td>[(919.3548583984375, -1674.396240234375, -415....</td>\n",
       "      <td>NaN</td>\n",
       "      <td>[(522.0472412109375, -1249.5416259765625, -415...</td>\n",
       "    </tr>\n",
       "    <tr>\n",
       "      <th>160</th>\n",
       "      <td>de_nuke</td>\n",
       "      <td>475</td>\n",
       "      <td>18</td>\n",
       "      <td>6.921875</td>\n",
       "      <td>smoke</td>\n",
       "      <td>device</td>\n",
       "      <td>Astralis</td>\n",
       "      <td>full</td>\n",
       "      <td>FaZe Clan</td>\n",
       "      <td>full</td>\n",
       "      <td>TERRORIST</td>\n",
       "      <td>(-1351.1507568359375, -1043.4605712890625, -37...</td>\n",
       "      <td>(1136.90625, -2043.34375, -413.96875)</td>\n",
       "      <td>[(-539.0313720703125, -1147.4931640625, -186.5...</td>\n",
       "      <td>NaN</td>\n",
       "      <td>[(-311.94775390625, -701.6260986328125, -415.9...</td>\n",
       "    </tr>\n",
       "    <tr>\n",
       "      <th>161</th>\n",
       "      <td>de_nuke</td>\n",
       "      <td>476</td>\n",
       "      <td>5</td>\n",
       "      <td>25.34375</td>\n",
       "      <td>molotov</td>\n",
       "      <td>stavn</td>\n",
       "      <td>Astralis</td>\n",
       "      <td>full</td>\n",
       "      <td>FaZe Clan</td>\n",
       "      <td>full</td>\n",
       "      <td>CT</td>\n",
       "      <td>(1102.6785888671875, -1617.1788330078125, -415...</td>\n",
       "      <td>(1218.1875, -2401.59375, -413.375)</td>\n",
       "      <td>[(288.0313415527344, -463.36846923828125, -127...</td>\n",
       "      <td>[(1213.9083251953125, 30.019079208374023, -415...</td>\n",
       "      <td>[(1096.7567138671875, -454.3848876953125, -127...</td>\n",
       "    </tr>\n",
       "  </tbody>\n",
       "</table>\n",
       "<p>162 rows × 16 columns</p>\n",
       "</div>"
      ],
      "text/plain": [
       "    map_name  entity_id  round  throwSeconds grenade_type throwerName  \\\n",
       "0    de_nuke         65     10       8.71875        smoke         br0   \n",
       "1    de_nuke         65     18     28.328125        smoke      device   \n",
       "2    de_nuke         66     15     19.140625      molotov        rain   \n",
       "3    de_nuke         71      6     23.515625      molotov       stavn   \n",
       "4    de_nuke         92     17     19.421875      molotov      device   \n",
       "..       ...        ...    ...           ...          ...         ...   \n",
       "157  de_nuke        470      8       5.96875        smoke        rain   \n",
       "158  de_nuke        474     10       27.3125        smoke    karrigan   \n",
       "159  de_nuke        474     21      8.609375      molotov        ropz   \n",
       "160  de_nuke        475     18      6.921875        smoke      device   \n",
       "161  de_nuke        476      5      25.34375      molotov       stavn   \n",
       "\n",
       "    throwerTeam throwerBuyType opponentTeam opponentBuyType throwerSide  \\\n",
       "0      Astralis           full    FaZe Clan            full          CT   \n",
       "1      Astralis           full    FaZe Clan            full   TERRORIST   \n",
       "2     FaZe Clan           full     Astralis            full          CT   \n",
       "3      Astralis           full    FaZe Clan            full          CT   \n",
       "4      Astralis           full    FaZe Clan           force   TERRORIST   \n",
       "..          ...            ...          ...             ...         ...   \n",
       "157   FaZe Clan           full     Astralis            full   TERRORIST   \n",
       "158   FaZe Clan           full     Astralis            full   TERRORIST   \n",
       "159   FaZe Clan           full     Astralis           force          CT   \n",
       "160    Astralis           full    FaZe Clan            full   TERRORIST   \n",
       "161    Astralis           full    FaZe Clan            full          CT   \n",
       "\n",
       "                                            throwCords  \\\n",
       "0    (840.4488525390625, 70.94966125488281, -415.96...   \n",
       "1    (-1351.2012939453125, -1043.841796875, -370.96...   \n",
       "2    (1167.05517578125, -1296.9703369140625, -415.9...   \n",
       "3    (861.3890991210938, -1634.232177734375, -415.4...   \n",
       "4    (417.908935546875, -1339.753173828125, -415.96...   \n",
       "..                                                 ...   \n",
       "157  (-640.515380859375, -1418.1844482421875, -415....   \n",
       "158  (-125.35107421875, -1183.811767578125, -110.79...   \n",
       "159  (922.6604614257812, 41.81367111206055, -415.96...   \n",
       "160  (-1351.1507568359375, -1043.4605712890625, -37...   \n",
       "161  (1102.6785888671875, -1617.1788330078125, -415...   \n",
       "\n",
       "                                 landCords  \\\n",
       "0       (112.40625, -326.4375, -413.96875)   \n",
       "1      (1138.6875, -2040.9375, -413.96875)   \n",
       "2     (1230.15625, -2312.9375, -410.65625)   \n",
       "3        (1210.71875, -2321.375, -413.375)   \n",
       "4     (879.21875, -1664.59375, -412.96875)   \n",
       "..                                     ...   \n",
       "157         (442.25, -2129.75, -413.96875)   \n",
       "158      (963.9375, -446.6875, -125.96875)   \n",
       "159     (106.46875, -124.5625, -413.46875)   \n",
       "160  (1136.90625, -2043.34375, -413.96875)   \n",
       "161     (1218.1875, -2401.59375, -413.375)   \n",
       "\n",
       "                                    starting_positions  \\\n",
       "0    [(946.9803466796875, -512.65771484375, -96.746...   \n",
       "1    [(51.53950881958008, -1027.559814453125, -415....   \n",
       "2    [(601.146240234375, -984.1541137695312, -415.9...   \n",
       "3    [(308.9505615234375, -561.36865234375, -127.96...   \n",
       "4    [(544.7725830078125, -818.166015625, -399.9687...   \n",
       "..                                                 ...   \n",
       "157  [(-892.8883666992188, -1128.3846435546875, -41...   \n",
       "158  [(-125.35107421875, -1183.811767578125, -110.7...   \n",
       "159  [(919.3548583984375, -1674.396240234375, -415....   \n",
       "160  [(-539.0313720703125, -1147.4931640625, -186.5...   \n",
       "161  [(288.0313415527344, -463.36846923828125, -127...   \n",
       "\n",
       "                                          dead_players  \\\n",
       "0                                                  NaN   \n",
       "1                                                  NaN   \n",
       "2    [(104.07331848144531, 136.4063262939453, -415....   \n",
       "3    [(923.7300415039062, -1557.551025390625, -415....   \n",
       "4    [(619.3079223632812, -812.4690551757812, -415....   \n",
       "..                                                 ...   \n",
       "157  [(219.63461303710938, -2124.313720703125, -415...   \n",
       "158                                                NaN   \n",
       "159                                                NaN   \n",
       "160                                                NaN   \n",
       "161  [(1213.9083251953125, 30.019079208374023, -415...   \n",
       "\n",
       "                                         alive_players  \n",
       "0    [(675.0065307617188, -654.7633056640625, -206....  \n",
       "1    [(107.97000122070312, -1016.2108154296875, -41...  \n",
       "2    [(596.6456298828125, -1100.789794921875, -365....  \n",
       "3    [(316.55828857421875, -362.82666015625, -127.9...  \n",
       "4    [(667.1747436523438, -768.351806640625, -415.9...  \n",
       "..                                                 ...  \n",
       "157  [(320.7699890136719, -2034.265380859375, -415....  \n",
       "158  [(-370.3466796875, -1632.046142578125, -415.96...  \n",
       "159  [(522.0472412109375, -1249.5416259765625, -415...  \n",
       "160  [(-311.94775390625, -701.6260986328125, -415.9...  \n",
       "161  [(1096.7567138671875, -454.3848876953125, -127...  \n",
       "\n",
       "[162 rows x 16 columns]"
      ]
     },
     "execution_count": 32,
     "metadata": {},
     "output_type": "execute_result"
    }
   ],
   "source": [
    "test = parse_demo(dem)\n",
    "test"
   ]
  },
  {
   "cell_type": "code",
   "execution_count": 59,
   "id": "bbcdeec1",
   "metadata": {},
   "outputs": [
    {
     "data": {
      "text/html": [
       "<div>\n",
       "<style scoped>\n",
       "    .dataframe tbody tr th:only-of-type {\n",
       "        vertical-align: middle;\n",
       "    }\n",
       "\n",
       "    .dataframe tbody tr th {\n",
       "        vertical-align: top;\n",
       "    }\n",
       "\n",
       "    .dataframe thead th {\n",
       "        text-align: right;\n",
       "    }\n",
       "</style>\n",
       "<table border=\"1\" class=\"dataframe\">\n",
       "  <thead>\n",
       "    <tr style=\"text-align: right;\">\n",
       "      <th></th>\n",
       "      <th>map_name</th>\n",
       "      <th>entity_id</th>\n",
       "      <th>round</th>\n",
       "      <th>throwSeconds</th>\n",
       "      <th>grenade_type</th>\n",
       "      <th>throwerName</th>\n",
       "      <th>throwerTeam</th>\n",
       "      <th>opponentTeam</th>\n",
       "      <th>throwerSide</th>\n",
       "      <th>throwCords</th>\n",
       "      <th>landCords</th>\n",
       "      <th>starting_positions</th>\n",
       "      <th>dead_players</th>\n",
       "      <th>alive_players</th>\n",
       "    </tr>\n",
       "  </thead>\n",
       "  <tbody>\n",
       "    <tr>\n",
       "      <th>15</th>\n",
       "      <td>de_nuke</td>\n",
       "      <td>121</td>\n",
       "      <td>3</td>\n",
       "      <td>6.328125</td>\n",
       "      <td>molotov</td>\n",
       "      <td>device</td>\n",
       "      <td>Astralis</td>\n",
       "      <td>FaZe Clan</td>\n",
       "      <td>CT</td>\n",
       "      <td>(1668.0035400390625, -1212.8868408203125, -401...</td>\n",
       "      <td>(53.5, -2070.125, -336.78125)</td>\n",
       "      <td>[(1146.7567138671875, -444.86102294921875, -15...</td>\n",
       "      <td>NaN</td>\n",
       "      <td>[(455.9765319824219, -891.97998046875, -251.46...</td>\n",
       "    </tr>\n",
       "  </tbody>\n",
       "</table>\n",
       "</div>"
      ],
      "text/plain": [
       "   map_name  entity_id  round  throwSeconds grenade_type throwerName  \\\n",
       "15  de_nuke        121      3      6.328125      molotov      device   \n",
       "\n",
       "   throwerTeam opponentTeam throwerSide  \\\n",
       "15    Astralis    FaZe Clan          CT   \n",
       "\n",
       "                                           throwCords  \\\n",
       "15  (1668.0035400390625, -1212.8868408203125, -401...   \n",
       "\n",
       "                        landCords  \\\n",
       "15  (53.5, -2070.125, -336.78125)   \n",
       "\n",
       "                                   starting_positions dead_players  \\\n",
       "15  [(1146.7567138671875, -444.86102294921875, -15...          NaN   \n",
       "\n",
       "                                        alive_players  \n",
       "15  [(455.9765319824219, -891.97998046875, -251.46...  "
      ]
     },
     "execution_count": 59,
     "metadata": {},
     "output_type": "execute_result"
    }
   ],
   "source": [
    "test.query(\"throwerName == 'device' and entity_id == '121'\")"
   ]
  },
  {
   "cell_type": "code",
   "execution_count": 55,
   "id": "4925e527",
   "metadata": {},
   "outputs": [],
   "source": [
    "test['throwSeconds'] = (test[\"tick\"] - test[\"freeze_end\"])/64"
   ]
  },
  {
   "cell_type": "code",
   "execution_count": 51,
   "id": "0a8f9fb6",
   "metadata": {},
   "outputs": [
    {
     "data": {
      "text/plain": [
       "6.328125"
      ]
     },
     "execution_count": 51,
     "metadata": {},
     "output_type": "execute_result"
    }
   ],
   "source": [
    "(11783-11378)/64"
   ]
  },
  {
   "cell_type": "code",
   "execution_count": 15,
   "id": "bbd7f72d",
   "metadata": {},
   "outputs": [
    {
     "name": "stderr",
     "output_type": "stream",
     "text": [
      "INFO patool: Extracting ..\\..\\demos\\betboom-dacha-belgrade-2024-south-america-closed-qualifier-imperial-vs-pain-bo3-9EkA64HrPRXCqSd6gmir7L.rar ...\n",
      "INFO patool: running \"C:\\Program Files\\7-Zip\\7z.EXE\" x -o..\\..\\demos -- ..\\..\\demos\\betboom-dacha-belgrade-2024-south-america-closed-qualifier-imperial-vs-pain-bo3-9EkA64HrPRXCqSd6gmir7L.rar\n",
      "INFO patool:     with input=\n",
      "INFO patool: ... ..\\..\\demos\\betboom-dacha-belgrade-2024-south-america-closed-qualifier-imperial-vs-pain-bo3-9EkA64HrPRXCqSd6gmir7L.rar extracted to `..\\..\\demos'.\n"
     ]
    },
    {
     "data": {
      "text/plain": [
       "'..\\\\..\\\\demos'"
      ]
     },
     "execution_count": 15,
     "metadata": {},
     "output_type": "execute_result"
    }
   ],
   "source": [
    "patoolib.extract_archive(os.path.join(data_dir,zip), outdir=data_dir)"
   ]
  },
  {
   "cell_type": "code",
   "execution_count": 6,
   "id": "abdc2269",
   "metadata": {},
   "outputs": [
    {
     "name": "stderr",
     "output_type": "stream",
     "text": [
      "INFO patool: Extracting ..\\..\\demos\\betboom-dacha-belgrade-2024-south-america-closed-qualifier-imperial-vs-pain-bo3-9EkA64HrPRXCqSd6gmir7L.rar ...\n",
      "INFO patool: running \"C:\\Program Files\\7-Zip\\7z.EXE\" x -o..\\..\\demos -- ..\\..\\demos\\betboom-dacha-belgrade-2024-south-america-closed-qualifier-imperial-vs-pain-bo3-9EkA64HrPRXCqSd6gmir7L.rar\n",
      "INFO patool:     with input=\n"
     ]
    },
    {
     "name": "stdout",
     "output_type": "stream",
     "text": [
      "Unzipping <class 'zip'>\n"
     ]
    },
    {
     "name": "stderr",
     "output_type": "stream",
     "text": [
      "INFO patool: ... ..\\..\\demos\\betboom-dacha-belgrade-2024-south-america-closed-qualifier-imperial-vs-pain-bo3-9EkA64HrPRXCqSd6gmir7L.rar extracted to `..\\..\\demos'.\n"
     ]
    },
    {
     "name": "stdout",
     "output_type": "stream",
     "text": [
      "..\\..\\demos\\imperial-vs-pain-m1-inferno.dem\n",
      "her1\n",
      "her2\n",
      "..\\..\\demos\\imperial-vs-pain-m2-nuke.dem\n",
      "her1\n"
     ]
    },
    {
     "name": "stderr",
     "output_type": "stream",
     "text": [
      "INFO patool: Extracting ..\\..\\demos\\betboom-dacha-belgrade-2024-south-america-closed-qualifier-imperial-vs-pain-bo3-CVDSLFvWUP8JR3P40FL6MM.rar ...\n",
      "INFO patool: running \"C:\\Program Files\\7-Zip\\7z.EXE\" x -o..\\..\\demos -- ..\\..\\demos\\betboom-dacha-belgrade-2024-south-america-closed-qualifier-imperial-vs-pain-bo3-CVDSLFvWUP8JR3P40FL6MM.rar\n",
      "INFO patool:     with input=\n"
     ]
    },
    {
     "name": "stdout",
     "output_type": "stream",
     "text": [
      "her2\n",
      "Unzipping <class 'zip'>\n"
     ]
    },
    {
     "name": "stderr",
     "output_type": "stream",
     "text": [
      "INFO patool: ... ..\\..\\demos\\betboom-dacha-belgrade-2024-south-america-closed-qualifier-imperial-vs-pain-bo3-CVDSLFvWUP8JR3P40FL6MM.rar extracted to `..\\..\\demos'.\n"
     ]
    },
    {
     "name": "stdout",
     "output_type": "stream",
     "text": [
      "..\\..\\demos\\imperial-vs-pain-m1-inferno.dem\n",
      "her1\n",
      "her2\n",
      "..\\..\\demos\\imperial-vs-pain-m2-nuke.dem\n",
      "her1\n"
     ]
    },
    {
     "name": "stderr",
     "output_type": "stream",
     "text": [
      "INFO patool: Extracting ..\\..\\demos\\esl-pro-league-season-19-astralis-vs-eternal-fire-bo3-DDOvVuh0AH6IwT2yDcN_Hw.rar ...\n",
      "INFO patool: running \"C:\\Program Files\\7-Zip\\7z.EXE\" x -o..\\..\\demos -- ..\\..\\demos\\esl-pro-league-season-19-astralis-vs-eternal-fire-bo3-DDOvVuh0AH6IwT2yDcN_Hw.rar\n",
      "INFO patool:     with input=\n"
     ]
    },
    {
     "name": "stdout",
     "output_type": "stream",
     "text": [
      "her2\n",
      "Unzipping <class 'zip'>\n"
     ]
    },
    {
     "name": "stderr",
     "output_type": "stream",
     "text": [
      "INFO patool: ... ..\\..\\demos\\esl-pro-league-season-19-astralis-vs-eternal-fire-bo3-DDOvVuh0AH6IwT2yDcN_Hw.rar extracted to `..\\..\\demos'.\n"
     ]
    },
    {
     "name": "stdout",
     "output_type": "stream",
     "text": [
      "..\\..\\demos\\astralis-vs-eternal-fire-m1-vertigo.dem\n",
      "her1\n",
      "her2\n",
      "..\\..\\demos\\astralis-vs-eternal-fire-m2-overpass.dem\n",
      "her1\n"
     ]
    },
    {
     "name": "stderr",
     "output_type": "stream",
     "text": [
      "INFO patool: Extracting ..\\..\\demos\\esl-pro-league-season-19-astralis-vs-faze-bo3-FrqdSIhcHnF89PQld1FpOv.rar ...\n",
      "INFO patool: running \"C:\\Program Files\\7-Zip\\7z.EXE\" x -o..\\..\\demos -- ..\\..\\demos\\esl-pro-league-season-19-astralis-vs-faze-bo3-FrqdSIhcHnF89PQld1FpOv.rar\n",
      "INFO patool:     with input=\n"
     ]
    },
    {
     "name": "stdout",
     "output_type": "stream",
     "text": [
      "her2\n",
      "Unzipping <class 'zip'>\n"
     ]
    },
    {
     "name": "stderr",
     "output_type": "stream",
     "text": [
      "INFO patool: ... ..\\..\\demos\\esl-pro-league-season-19-astralis-vs-faze-bo3-FrqdSIhcHnF89PQld1FpOv.rar extracted to `..\\..\\demos'.\n"
     ]
    },
    {
     "name": "stdout",
     "output_type": "stream",
     "text": [
      "..\\..\\demos\\astralis-vs-faze-m1-ancient.dem\n",
      "her1\n",
      "her2\n",
      "..\\..\\demos\\astralis-vs-faze-m2-nuke.dem\n"
     ]
    },
    {
     "name": "stderr",
     "output_type": "stream",
     "text": [
      "\u001b[32m2024-05-05 18:59:40.885\u001b[0m | \u001b[33m\u001b[1mWARNING \u001b[0m | \u001b[36mawpy.parsers\u001b[0m:\u001b[36mparse_bomb\u001b[0m:\u001b[36m501\u001b[0m - \u001b[33m\u001b[1mbomb_defused not found in events.\u001b[0m\n"
     ]
    },
    {
     "name": "stdout",
     "output_type": "stream",
     "text": [
      "her1\n"
     ]
    },
    {
     "name": "stderr",
     "output_type": "stream",
     "text": [
      "INFO patool: Extracting ..\\..\\demos\\esl-pro-league-season-19-complexity-vs-heroic-bo3-ReT7HsQuCIion0rJ_pyVxF.rar ...\n",
      "INFO patool: running \"C:\\Program Files\\7-Zip\\7z.EXE\" x -o..\\..\\demos -- ..\\..\\demos\\esl-pro-league-season-19-complexity-vs-heroic-bo3-ReT7HsQuCIion0rJ_pyVxF.rar\n",
      "INFO patool:     with input=\n"
     ]
    },
    {
     "name": "stdout",
     "output_type": "stream",
     "text": [
      "her2\n",
      "Unzipping <class 'zip'>\n"
     ]
    },
    {
     "name": "stderr",
     "output_type": "stream",
     "text": [
      "INFO patool: ... ..\\..\\demos\\esl-pro-league-season-19-complexity-vs-heroic-bo3-ReT7HsQuCIion0rJ_pyVxF.rar extracted to `..\\..\\demos'.\n"
     ]
    },
    {
     "name": "stdout",
     "output_type": "stream",
     "text": [
      "..\\..\\demos\\complexity-vs-heroic-m1-nuke.dem\n",
      "her1\n",
      "her2\n",
      "..\\..\\demos\\complexity-vs-heroic-m2-vertigo.dem\n",
      "her1\n",
      "her2\n",
      "..\\..\\demos\\complexity-vs-heroic-m3-anubis.dem\n",
      "her1\n"
     ]
    },
    {
     "name": "stderr",
     "output_type": "stream",
     "text": [
      "INFO patool: Extracting ..\\..\\demos\\esl-pro-league-season-19-eternal-fire-vs-imperial-bo3-PXMZK3fCXDVOIQWCqh6ov0.rar ...\n",
      "INFO patool: running \"C:\\Program Files\\7-Zip\\7z.EXE\" x -o..\\..\\demos -- ..\\..\\demos\\esl-pro-league-season-19-eternal-fire-vs-imperial-bo3-PXMZK3fCXDVOIQWCqh6ov0.rar\n",
      "INFO patool:     with input=\n"
     ]
    },
    {
     "name": "stdout",
     "output_type": "stream",
     "text": [
      "her2\n",
      "Unzipping <class 'zip'>\n"
     ]
    },
    {
     "name": "stderr",
     "output_type": "stream",
     "text": [
      "INFO patool: ... ..\\..\\demos\\esl-pro-league-season-19-eternal-fire-vs-imperial-bo3-PXMZK3fCXDVOIQWCqh6ov0.rar extracted to `..\\..\\demos'.\n"
     ]
    },
    {
     "name": "stdout",
     "output_type": "stream",
     "text": [
      "..\\..\\demos\\eternal-fire-vs-imperial-m1-mirage.dem\n",
      "her1\n",
      "her2\n",
      "..\\..\\demos\\eternal-fire-vs-imperial-m2-anubis.dem\n",
      "her1\n",
      "her2\n",
      "..\\..\\demos\\eternal-fire-vs-imperial-m3-inferno.dem\n",
      "her1\n"
     ]
    },
    {
     "name": "stderr",
     "output_type": "stream",
     "text": [
      "INFO patool: Extracting ..\\..\\demos\\esl-pro-league-season-19-falcons-vs-g2-bo3-jLJ2WS7X-oynpKz9L_YttX.rar ...\n",
      "INFO patool: running \"C:\\Program Files\\7-Zip\\7z.EXE\" x -o..\\..\\demos -- ..\\..\\demos\\esl-pro-league-season-19-falcons-vs-g2-bo3-jLJ2WS7X-oynpKz9L_YttX.rar\n",
      "INFO patool:     with input=\n"
     ]
    },
    {
     "name": "stdout",
     "output_type": "stream",
     "text": [
      "her2\n",
      "Unzipping <class 'zip'>\n"
     ]
    },
    {
     "name": "stderr",
     "output_type": "stream",
     "text": [
      "INFO patool: ... ..\\..\\demos\\esl-pro-league-season-19-falcons-vs-g2-bo3-jLJ2WS7X-oynpKz9L_YttX.rar extracted to `..\\..\\demos'.\n"
     ]
    },
    {
     "name": "stdout",
     "output_type": "stream",
     "text": [
      "..\\..\\demos\\falcons-vs-g2-m1-vertigo.dem\n",
      "her1\n",
      "her2\n",
      "..\\..\\demos\\falcons-vs-g2-m2-anubis.dem\n",
      "her1\n",
      "her2\n",
      "..\\..\\demos\\falcons-vs-g2-m3-nuke.dem\n",
      "her1\n"
     ]
    },
    {
     "name": "stderr",
     "output_type": "stream",
     "text": [
      "INFO patool: Extracting ..\\..\\demos\\esl-pro-league-season-19-faze-vs-eternal-fire-bo3-fdRjZRTKvKeYmqxOszbPg7.rar ...\n",
      "INFO patool: running \"C:\\Program Files\\7-Zip\\7z.EXE\" x -o..\\..\\demos -- ..\\..\\demos\\esl-pro-league-season-19-faze-vs-eternal-fire-bo3-fdRjZRTKvKeYmqxOszbPg7.rar\n",
      "INFO patool:     with input=\n"
     ]
    },
    {
     "name": "stdout",
     "output_type": "stream",
     "text": [
      "her2\n",
      "Unzipping <class 'zip'>\n"
     ]
    },
    {
     "name": "stderr",
     "output_type": "stream",
     "text": [
      "INFO patool: ... ..\\..\\demos\\esl-pro-league-season-19-faze-vs-eternal-fire-bo3-fdRjZRTKvKeYmqxOszbPg7.rar extracted to `..\\..\\demos'.\n"
     ]
    },
    {
     "name": "stdout",
     "output_type": "stream",
     "text": [
      "..\\..\\demos\\faze-vs-eternal-fire-m1-anubis.dem\n",
      "her1\n",
      "her2\n",
      "..\\..\\demos\\faze-vs-eternal-fire-m2-mirage.dem\n",
      "her1\n",
      "her2\n",
      "..\\..\\demos\\faze-vs-eternal-fire-m3-inferno-p1.dem\n",
      "her1\n",
      "her2\n",
      "..\\..\\demos\\faze-vs-eternal-fire-m3-inferno-p2.dem\n"
     ]
    },
    {
     "name": "stderr",
     "output_type": "stream",
     "text": [
      "\u001b[32m2024-05-05 19:03:33.267\u001b[0m | \u001b[33m\u001b[1mWARNING \u001b[0m | \u001b[36mawpy.parsers\u001b[0m:\u001b[36mparse_bomb\u001b[0m:\u001b[36m501\u001b[0m - \u001b[33m\u001b[1mbomb_defused not found in events.\u001b[0m\n",
      "\u001b[32m2024-05-05 19:03:33.268\u001b[0m | \u001b[33m\u001b[1mWARNING \u001b[0m | \u001b[36mawpy.parsers\u001b[0m:\u001b[36mparse_bomb\u001b[0m:\u001b[36m531\u001b[0m - \u001b[33m\u001b[1mbomb_exploded not found in events.\u001b[0m\n"
     ]
    },
    {
     "name": "stdout",
     "output_type": "stream",
     "text": [
      "her1\n"
     ]
    },
    {
     "name": "stderr",
     "output_type": "stream",
     "text": [
      "INFO patool: Extracting ..\\..\\demos\\esl-pro-league-season-19-faze-vs-imperial-bo3-kXJHZFUje0Z20Re0uhjhJR.rar ...\n",
      "INFO patool: running \"C:\\Program Files\\7-Zip\\7z.EXE\" x -o..\\..\\demos -- ..\\..\\demos\\esl-pro-league-season-19-faze-vs-imperial-bo3-kXJHZFUje0Z20Re0uhjhJR.rar\n",
      "INFO patool:     with input=\n"
     ]
    },
    {
     "name": "stdout",
     "output_type": "stream",
     "text": [
      "her2\n",
      "Unzipping <class 'zip'>\n"
     ]
    },
    {
     "name": "stderr",
     "output_type": "stream",
     "text": [
      "INFO patool: ... ..\\..\\demos\\esl-pro-league-season-19-faze-vs-imperial-bo3-kXJHZFUje0Z20Re0uhjhJR.rar extracted to `..\\..\\demos'.\n"
     ]
    },
    {
     "name": "stdout",
     "output_type": "stream",
     "text": [
      "..\\..\\demos\\faze-vs-imperial-m1-inferno.dem\n"
     ]
    },
    {
     "name": "stderr",
     "output_type": "stream",
     "text": [
      "\u001b[32m2024-05-05 19:03:40.782\u001b[0m | \u001b[33m\u001b[1mWARNING \u001b[0m | \u001b[36mawpy.parsers\u001b[0m:\u001b[36mparse_bomb\u001b[0m:\u001b[36m501\u001b[0m - \u001b[33m\u001b[1mbomb_defused not found in events.\u001b[0m\n"
     ]
    },
    {
     "name": "stdout",
     "output_type": "stream",
     "text": [
      "her1\n",
      "her2\n",
      "..\\..\\demos\\faze-vs-imperial-m2-nuke.dem\n"
     ]
    },
    {
     "name": "stderr",
     "output_type": "stream",
     "text": [
      "\u001b[32m2024-05-05 19:03:58.795\u001b[0m | \u001b[33m\u001b[1mWARNING \u001b[0m | \u001b[36mawpy.parsers\u001b[0m:\u001b[36mparse_bomb\u001b[0m:\u001b[36m531\u001b[0m - \u001b[33m\u001b[1mbomb_exploded not found in events.\u001b[0m\n"
     ]
    },
    {
     "name": "stdout",
     "output_type": "stream",
     "text": [
      "her1\n"
     ]
    },
    {
     "name": "stderr",
     "output_type": "stream",
     "text": [
      "INFO patool: Extracting ..\\..\\demos\\esl-pro-league-season-19-furia-vs-ence-bo3-jmXNto8Rcfh5Sxa51T0v0T.rar ...\n",
      "INFO patool: running \"C:\\Program Files\\7-Zip\\7z.EXE\" x -o..\\..\\demos -- ..\\..\\demos\\esl-pro-league-season-19-furia-vs-ence-bo3-jmXNto8Rcfh5Sxa51T0v0T.rar\n",
      "INFO patool:     with input=\n"
     ]
    },
    {
     "name": "stdout",
     "output_type": "stream",
     "text": [
      "her2\n",
      "Unzipping <class 'zip'>\n"
     ]
    },
    {
     "name": "stderr",
     "output_type": "stream",
     "text": [
      "INFO patool: ... ..\\..\\demos\\esl-pro-league-season-19-furia-vs-ence-bo3-jmXNto8Rcfh5Sxa51T0v0T.rar extracted to `..\\..\\demos'.\n"
     ]
    },
    {
     "name": "stdout",
     "output_type": "stream",
     "text": [
      "..\\..\\demos\\furia-vs-ence-m1-nuke.dem\n"
     ]
    },
    {
     "name": "stderr",
     "output_type": "stream",
     "text": [
      "\u001b[32m2024-05-05 19:04:14.182\u001b[0m | \u001b[33m\u001b[1mWARNING \u001b[0m | \u001b[36mawpy.parsers\u001b[0m:\u001b[36mparse_bomb\u001b[0m:\u001b[36m501\u001b[0m - \u001b[33m\u001b[1mbomb_defused not found in events.\u001b[0m\n"
     ]
    },
    {
     "name": "stdout",
     "output_type": "stream",
     "text": [
      "her1\n",
      "her2\n",
      "..\\..\\demos\\furia-vs-ence-m2-mirage.dem\n",
      "her1\n"
     ]
    },
    {
     "name": "stderr",
     "output_type": "stream",
     "text": [
      "INFO patool: Extracting ..\\..\\demos\\esl-pro-league-season-19-furia-vs-liquid-bo3-GkcGMs-EldRld0KZgvGLk1.rar ...\n",
      "INFO patool: running \"C:\\Program Files\\7-Zip\\7z.EXE\" x -o..\\..\\demos -- ..\\..\\demos\\esl-pro-league-season-19-furia-vs-liquid-bo3-GkcGMs-EldRld0KZgvGLk1.rar\n",
      "INFO patool:     with input=\n"
     ]
    },
    {
     "name": "stdout",
     "output_type": "stream",
     "text": [
      "her2\n",
      "Unzipping <class 'zip'>\n"
     ]
    },
    {
     "name": "stderr",
     "output_type": "stream",
     "text": [
      "INFO patool: ... ..\\..\\demos\\esl-pro-league-season-19-furia-vs-liquid-bo3-GkcGMs-EldRld0KZgvGLk1.rar extracted to `..\\..\\demos'.\n"
     ]
    },
    {
     "name": "stdout",
     "output_type": "stream",
     "text": [
      "..\\..\\demos\\furia-vs-liquid-m1-inferno.dem\n",
      "her1\n",
      "her2\n",
      "..\\..\\demos\\furia-vs-liquid-m2-mirage.dem\n",
      "her1\n",
      "her2\n",
      "..\\..\\demos\\furia-vs-liquid-m3-nuke.dem\n",
      "her1\n"
     ]
    },
    {
     "name": "stderr",
     "output_type": "stream",
     "text": [
      "INFO patool: Extracting ..\\..\\demos\\esl-pro-league-season-19-mouz-vs-liquid-bo3-nlD5zPvatkVmGpd5iJU_Zg.rar ...\n",
      "INFO patool: running \"C:\\Program Files\\7-Zip\\7z.EXE\" x -o..\\..\\demos -- ..\\..\\demos\\esl-pro-league-season-19-mouz-vs-liquid-bo3-nlD5zPvatkVmGpd5iJU_Zg.rar\n",
      "INFO patool:     with input=\n"
     ]
    },
    {
     "name": "stdout",
     "output_type": "stream",
     "text": [
      "her2\n",
      "Unzipping <class 'zip'>\n"
     ]
    },
    {
     "name": "stderr",
     "output_type": "stream",
     "text": [
      "INFO patool: ... ..\\..\\demos\\esl-pro-league-season-19-mouz-vs-liquid-bo3-nlD5zPvatkVmGpd5iJU_Zg.rar extracted to `..\\..\\demos'.\n"
     ]
    },
    {
     "name": "stdout",
     "output_type": "stream",
     "text": [
      "..\\..\\demos\\mouz-vs-liquid-m1-nuke.dem\n",
      "her1\n",
      "her2\n",
      "..\\..\\demos\\mouz-vs-liquid-m2-mirage.dem\n",
      "her1\n"
     ]
    },
    {
     "name": "stderr",
     "output_type": "stream",
     "text": [
      "INFO patool: Extracting ..\\..\\demos\\esl-pro-league-season-19-virtuspro-vs-faze-bo3-0X0tQ0plZ6ISt0pF-hy0NC.rar ...\n",
      "INFO patool: running \"C:\\Program Files\\7-Zip\\7z.EXE\" x -o..\\..\\demos -- ..\\..\\demos\\esl-pro-league-season-19-virtuspro-vs-faze-bo3-0X0tQ0plZ6ISt0pF-hy0NC.rar\n",
      "INFO patool:     with input=\n"
     ]
    },
    {
     "name": "stdout",
     "output_type": "stream",
     "text": [
      "her2\n",
      "Unzipping <class 'zip'>\n"
     ]
    },
    {
     "name": "stderr",
     "output_type": "stream",
     "text": [
      "INFO patool: ... ..\\..\\demos\\esl-pro-league-season-19-virtuspro-vs-faze-bo3-0X0tQ0plZ6ISt0pF-hy0NC.rar extracted to `..\\..\\demos'.\n"
     ]
    },
    {
     "name": "stdout",
     "output_type": "stream",
     "text": [
      "..\\..\\demos\\virtuspro-vs-faze-m1-vertigo.dem\n"
     ]
    },
    {
     "name": "stderr",
     "output_type": "stream",
     "text": [
      "\u001b[32m2024-05-05 19:06:21.271\u001b[0m | \u001b[33m\u001b[1mWARNING \u001b[0m | \u001b[36mawpy.parsers\u001b[0m:\u001b[36mparse_bomb\u001b[0m:\u001b[36m501\u001b[0m - \u001b[33m\u001b[1mbomb_defused not found in events.\u001b[0m\n"
     ]
    },
    {
     "name": "stdout",
     "output_type": "stream",
     "text": [
      "her1\n",
      "her2\n",
      "..\\..\\demos\\virtuspro-vs-faze-m2-mirage.dem\n",
      "her1\n"
     ]
    },
    {
     "name": "stderr",
     "output_type": "stream",
     "text": [
      "INFO patool: Extracting ..\\..\\demos\\esports-world-cup-2024-south-america-closed-qualifier-imperial-vs-pain-bo3-5Fx5xDDLuY5flB_RjqQyxZ.rar ...\n",
      "INFO patool: running \"C:\\Program Files\\7-Zip\\7z.EXE\" x -o..\\..\\demos -- ..\\..\\demos\\esports-world-cup-2024-south-america-closed-qualifier-imperial-vs-pain-bo3-5Fx5xDDLuY5flB_RjqQyxZ.rar\n",
      "INFO patool:     with input=\n"
     ]
    },
    {
     "name": "stdout",
     "output_type": "stream",
     "text": [
      "her2\n",
      "Unzipping <class 'zip'>\n"
     ]
    },
    {
     "name": "stderr",
     "output_type": "stream",
     "text": [
      "INFO patool: ... ..\\..\\demos\\esports-world-cup-2024-south-america-closed-qualifier-imperial-vs-pain-bo3-5Fx5xDDLuY5flB_RjqQyxZ.rar extracted to `..\\..\\demos'.\n"
     ]
    },
    {
     "name": "stdout",
     "output_type": "stream",
     "text": [
      "..\\..\\demos\\imperial-vs-pain-m1-nuke.dem\n",
      "her1\n"
     ]
    },
    {
     "name": "stderr",
     "output_type": "stream",
     "text": [
      "C:\\Users\\Baht\\AppData\\Local\\Temp\\ipykernel_23980\\59082995.py:44: SettingWithCopyWarning: \n",
      "A value is trying to be set on a copy of a slice from a DataFrame.\n",
      "Try using .loc[row_indexer,col_indexer] = value instead\n",
      "\n",
      "See the caveats in the documentation: https://pandas.pydata.org/pandas-docs/stable/user_guide/indexing.html#returning-a-view-versus-a-copy\n",
      "  player_df['position_players_thrown'] = list(zip(player_df['X_players_thrown'], player_df['Y_players_thrown'], player_df['Z_players_thrown']))\n"
     ]
    },
    {
     "name": "stdout",
     "output_type": "stream",
     "text": [
      "her2\n",
      "..\\..\\demos\\imperial-vs-pain-m2-inferno.dem\n",
      "her1\n"
     ]
    },
    {
     "name": "stderr",
     "output_type": "stream",
     "text": [
      "INFO patool: Extracting ..\\..\\demos\\global-esports-tour-rio-2024-imperial-vs-pain-bo3-3XHThgzKgHtGFos0GLiTmJ.rar ...\n",
      "INFO patool: running \"C:\\Program Files\\7-Zip\\7z.EXE\" x -o..\\..\\demos -- ..\\..\\demos\\global-esports-tour-rio-2024-imperial-vs-pain-bo3-3XHThgzKgHtGFos0GLiTmJ.rar\n",
      "INFO patool:     with input=\n"
     ]
    },
    {
     "name": "stdout",
     "output_type": "stream",
     "text": [
      "her2\n",
      "Unzipping <class 'zip'>\n"
     ]
    },
    {
     "name": "stderr",
     "output_type": "stream",
     "text": [
      "INFO patool: ... ..\\..\\demos\\global-esports-tour-rio-2024-imperial-vs-pain-bo3-3XHThgzKgHtGFos0GLiTmJ.rar extracted to `..\\..\\demos'.\n"
     ]
    },
    {
     "name": "stdout",
     "output_type": "stream",
     "text": [
      "..\\..\\demos\\imperial-vs-pain-m1-inferno.dem\n",
      "her1\n"
     ]
    },
    {
     "name": "stderr",
     "output_type": "stream",
     "text": [
      "C:\\Users\\Baht\\AppData\\Local\\Temp\\ipykernel_23980\\59082995.py:44: SettingWithCopyWarning: \n",
      "A value is trying to be set on a copy of a slice from a DataFrame.\n",
      "Try using .loc[row_indexer,col_indexer] = value instead\n",
      "\n",
      "See the caveats in the documentation: https://pandas.pydata.org/pandas-docs/stable/user_guide/indexing.html#returning-a-view-versus-a-copy\n",
      "  player_df['position_players_thrown'] = list(zip(player_df['X_players_thrown'], player_df['Y_players_thrown'], player_df['Z_players_thrown']))\n"
     ]
    },
    {
     "name": "stdout",
     "output_type": "stream",
     "text": [
      "her2\n",
      "..\\..\\demos\\imperial-vs-pain-m2-nuke.dem\n",
      "her1\n",
      "her2\n",
      "..\\..\\demos\\imperial-vs-pain-m3-ancient.dem\n",
      "her1\n"
     ]
    },
    {
     "name": "stderr",
     "output_type": "stream",
     "text": [
      "INFO patool: Extracting ..\\..\\demos\\global-esports-tour-rio-2024-imperial-vs-pain-bo3-JOW9kRIPOIZzRZHXt1FIY7.rar ...\n",
      "INFO patool: running \"C:\\Program Files\\7-Zip\\7z.EXE\" x -o..\\..\\demos -- ..\\..\\demos\\global-esports-tour-rio-2024-imperial-vs-pain-bo3-JOW9kRIPOIZzRZHXt1FIY7.rar\n",
      "INFO patool:     with input=\n"
     ]
    },
    {
     "name": "stdout",
     "output_type": "stream",
     "text": [
      "her2\n",
      "Unzipping <class 'zip'>\n"
     ]
    },
    {
     "name": "stderr",
     "output_type": "stream",
     "text": [
      "INFO patool: ... ..\\..\\demos\\global-esports-tour-rio-2024-imperial-vs-pain-bo3-JOW9kRIPOIZzRZHXt1FIY7.rar extracted to `..\\..\\demos'.\n"
     ]
    },
    {
     "name": "stdout",
     "output_type": "stream",
     "text": [
      "..\\..\\demos\\imperial-vs-pain-m1-anubis.dem\n",
      "her1\n",
      "her2\n",
      "..\\..\\demos\\imperial-vs-pain-m2-nuke.dem\n",
      "her1\n",
      "her2\n",
      "..\\..\\demos\\imperial-vs-pain-m3-overpass.dem\n",
      "her1\n"
     ]
    },
    {
     "name": "stderr",
     "output_type": "stream",
     "text": [
      "INFO patool: Extracting ..\\..\\demos\\iem-chengdu-2024-cloud9-vs-faze-bo3-5hAhMj5AJ5HtTnmtET9mMV.rar ...\n",
      "INFO patool: running \"C:\\Program Files\\7-Zip\\7z.EXE\" x -o..\\..\\demos -- ..\\..\\demos\\iem-chengdu-2024-cloud9-vs-faze-bo3-5hAhMj5AJ5HtTnmtET9mMV.rar\n",
      "INFO patool:     with input=\n"
     ]
    },
    {
     "name": "stdout",
     "output_type": "stream",
     "text": [
      "her2\n",
      "Unzipping <class 'zip'>\n"
     ]
    },
    {
     "name": "stderr",
     "output_type": "stream",
     "text": [
      "INFO patool: ... ..\\..\\demos\\iem-chengdu-2024-cloud9-vs-faze-bo3-5hAhMj5AJ5HtTnmtET9mMV.rar extracted to `..\\..\\demos'.\n"
     ]
    },
    {
     "name": "stdout",
     "output_type": "stream",
     "text": [
      "..\\..\\demos\\cloud9-vs-faze-m1-overpass.dem\n",
      "her1\n"
     ]
    },
    {
     "name": "stderr",
     "output_type": "stream",
     "text": [
      "C:\\Users\\Baht\\AppData\\Local\\Temp\\ipykernel_23980\\59082995.py:44: SettingWithCopyWarning: \n",
      "A value is trying to be set on a copy of a slice from a DataFrame.\n",
      "Try using .loc[row_indexer,col_indexer] = value instead\n",
      "\n",
      "See the caveats in the documentation: https://pandas.pydata.org/pandas-docs/stable/user_guide/indexing.html#returning-a-view-versus-a-copy\n",
      "  player_df['position_players_thrown'] = list(zip(player_df['X_players_thrown'], player_df['Y_players_thrown'], player_df['Z_players_thrown']))\n"
     ]
    },
    {
     "name": "stdout",
     "output_type": "stream",
     "text": [
      "her2\n",
      "..\\..\\demos\\cloud9-vs-faze-m2-nuke.dem\n",
      "her1\n"
     ]
    },
    {
     "name": "stderr",
     "output_type": "stream",
     "text": [
      "INFO patool: Extracting ..\\..\\demos\\iem-chengdu-2024-furia-vs-mouz-bo3-vaBov8CO8zgtFpkdM42nJi.rar ...\n",
      "INFO patool: running \"C:\\Program Files\\7-Zip\\7z.EXE\" x -o..\\..\\demos -- ..\\..\\demos\\iem-chengdu-2024-furia-vs-mouz-bo3-vaBov8CO8zgtFpkdM42nJi.rar\n",
      "INFO patool:     with input=\n"
     ]
    },
    {
     "name": "stdout",
     "output_type": "stream",
     "text": [
      "her2\n",
      "Unzipping <class 'zip'>\n"
     ]
    },
    {
     "name": "stderr",
     "output_type": "stream",
     "text": [
      "INFO patool: ... ..\\..\\demos\\iem-chengdu-2024-furia-vs-mouz-bo3-vaBov8CO8zgtFpkdM42nJi.rar extracted to `..\\..\\demos'.\n"
     ]
    },
    {
     "name": "stdout",
     "output_type": "stream",
     "text": [
      "..\\..\\demos\\furia-vs-mouz-m1-nuke.dem\n",
      "her1\n",
      "her2\n",
      "..\\..\\demos\\furia-vs-mouz-m2-vertigo-p1.dem\n"
     ]
    },
    {
     "name": "stderr",
     "output_type": "stream",
     "text": [
      "\u001b[32m2024-05-05 19:10:13.639\u001b[0m | \u001b[33m\u001b[1mWARNING \u001b[0m | \u001b[36mawpy.parsers\u001b[0m:\u001b[36mparse_bomb\u001b[0m:\u001b[36m531\u001b[0m - \u001b[33m\u001b[1mbomb_exploded not found in events.\u001b[0m\n"
     ]
    },
    {
     "name": "stdout",
     "output_type": "stream",
     "text": [
      "her1\n",
      "her2\n",
      "..\\..\\demos\\furia-vs-mouz-m2-vertigo-p2.dem\n",
      "her1\n",
      "her2\n",
      "..\\..\\demos\\furia-vs-mouz-m3-mirage.dem\n",
      "her1\n"
     ]
    },
    {
     "name": "stderr",
     "output_type": "stream",
     "text": [
      "INFO patool: Extracting ..\\..\\demos\\iem-chengdu-2024-g2-vs-heroic-bo3-M194Yo4KNWkY7PWPuupvXH.rar ...\n",
      "INFO patool: running \"C:\\Program Files\\7-Zip\\7z.EXE\" x -o..\\..\\demos -- ..\\..\\demos\\iem-chengdu-2024-g2-vs-heroic-bo3-M194Yo4KNWkY7PWPuupvXH.rar\n",
      "INFO patool:     with input=\n"
     ]
    },
    {
     "name": "stdout",
     "output_type": "stream",
     "text": [
      "her2\n",
      "Unzipping <class 'zip'>\n"
     ]
    },
    {
     "name": "stderr",
     "output_type": "stream",
     "text": [
      "INFO patool: ... ..\\..\\demos\\iem-chengdu-2024-g2-vs-heroic-bo3-M194Yo4KNWkY7PWPuupvXH.rar extracted to `..\\..\\demos'.\n"
     ]
    },
    {
     "name": "stdout",
     "output_type": "stream",
     "text": [
      "..\\..\\demos\\heroic-vs-g2-m1-ancient.dem\n",
      "her1\n",
      "her2\n",
      "..\\..\\demos\\heroic-vs-g2-m2-nuke.dem\n",
      "her1\n"
     ]
    },
    {
     "name": "stderr",
     "output_type": "stream",
     "text": [
      "INFO patool: Extracting ..\\..\\demos\\iem-chengdu-2024-heroic-vs-furia-bo3-pPfzo4w5dsXCQ1SdWM_dcq.rar ...\n",
      "INFO patool: running \"C:\\Program Files\\7-Zip\\7z.EXE\" x -o..\\..\\demos -- ..\\..\\demos\\iem-chengdu-2024-heroic-vs-furia-bo3-pPfzo4w5dsXCQ1SdWM_dcq.rar\n",
      "INFO patool:     with input=\n"
     ]
    },
    {
     "name": "stdout",
     "output_type": "stream",
     "text": [
      "her2\n",
      "Unzipping <class 'zip'>\n"
     ]
    },
    {
     "name": "stderr",
     "output_type": "stream",
     "text": [
      "INFO patool: ... ..\\..\\demos\\iem-chengdu-2024-heroic-vs-furia-bo3-pPfzo4w5dsXCQ1SdWM_dcq.rar extracted to `..\\..\\demos'.\n"
     ]
    },
    {
     "name": "stdout",
     "output_type": "stream",
     "text": [
      "..\\..\\demos\\heroic-vs-furia-m1-ancient.dem\n",
      "her1\n",
      "her2\n",
      "..\\..\\demos\\heroic-vs-furia-m2-nuke.dem\n",
      "her1\n",
      "her2\n",
      "..\\..\\demos\\heroic-vs-furia-m3-overpass.dem\n"
     ]
    },
    {
     "name": "stderr",
     "output_type": "stream",
     "text": [
      "\u001b[32m2024-05-05 19:12:16.009\u001b[0m | \u001b[33m\u001b[1mWARNING \u001b[0m | \u001b[36mawpy.parsers\u001b[0m:\u001b[36mparse_bomb\u001b[0m:\u001b[36m501\u001b[0m - \u001b[33m\u001b[1mbomb_defused not found in events.\u001b[0m\n"
     ]
    },
    {
     "name": "stdout",
     "output_type": "stream",
     "text": [
      "her1\n"
     ]
    },
    {
     "name": "stderr",
     "output_type": "stream",
     "text": [
      "INFO patool: Extracting ..\\..\\demos\\iem-chengdu-2024-mouz-vs-faze-bo3-E0MFxLLSomCj9bL90qSbiR.rar ...\n",
      "INFO patool: running \"C:\\Program Files\\7-Zip\\7z.EXE\" x -o..\\..\\demos -- ..\\..\\demos\\iem-chengdu-2024-mouz-vs-faze-bo3-E0MFxLLSomCj9bL90qSbiR.rar\n",
      "INFO patool:     with input=\n"
     ]
    },
    {
     "name": "stdout",
     "output_type": "stream",
     "text": [
      "her2\n",
      "Unzipping <class 'zip'>\n"
     ]
    },
    {
     "name": "stderr",
     "output_type": "stream",
     "text": [
      "INFO patool: ... ..\\..\\demos\\iem-chengdu-2024-mouz-vs-faze-bo3-E0MFxLLSomCj9bL90qSbiR.rar extracted to `..\\..\\demos'.\n"
     ]
    },
    {
     "name": "stdout",
     "output_type": "stream",
     "text": [
      "..\\..\\demos\\mouz-vs-faze-m1-overpass.dem\n",
      "her1\n",
      "her2\n",
      "..\\..\\demos\\mouz-vs-faze-m2-nuke.dem\n",
      "her1\n"
     ]
    },
    {
     "name": "stderr",
     "output_type": "stream",
     "text": [
      "C:\\Users\\Baht\\AppData\\Local\\Temp\\ipykernel_23980\\59082995.py:44: SettingWithCopyWarning: \n",
      "A value is trying to be set on a copy of a slice from a DataFrame.\n",
      "Try using .loc[row_indexer,col_indexer] = value instead\n",
      "\n",
      "See the caveats in the documentation: https://pandas.pydata.org/pandas-docs/stable/user_guide/indexing.html#returning-a-view-versus-a-copy\n",
      "  player_df['position_players_thrown'] = list(zip(player_df['X_players_thrown'], player_df['Y_players_thrown'], player_df['Z_players_thrown']))\n",
      "INFO patool: Extracting ..\\..\\demos\\iem-chengdu-2024-mouz-vs-g2-bo3-52MGkEEVrYF11UboqcX_ac.rar ...\n",
      "INFO patool: running \"C:\\Program Files\\7-Zip\\7z.EXE\" x -o..\\..\\demos -- ..\\..\\demos\\iem-chengdu-2024-mouz-vs-g2-bo3-52MGkEEVrYF11UboqcX_ac.rar\n",
      "INFO patool:     with input=\n"
     ]
    },
    {
     "name": "stdout",
     "output_type": "stream",
     "text": [
      "her2\n",
      "Unzipping <class 'zip'>\n"
     ]
    },
    {
     "name": "stderr",
     "output_type": "stream",
     "text": [
      "INFO patool: ... ..\\..\\demos\\iem-chengdu-2024-mouz-vs-g2-bo3-52MGkEEVrYF11UboqcX_ac.rar extracted to `..\\..\\demos'.\n"
     ]
    },
    {
     "name": "stdout",
     "output_type": "stream",
     "text": [
      "..\\..\\demos\\mouz-vs-g2-m1-nuke.dem\n",
      "her1\n",
      "her2\n",
      "..\\..\\demos\\mouz-vs-g2-m2-ancient.dem\n",
      "her1\n",
      "her2\n",
      "..\\..\\demos\\mouz-vs-g2-m3-overpass.dem\n",
      "her1\n"
     ]
    },
    {
     "name": "stderr",
     "output_type": "stream",
     "text": [
      "INFO patool: Extracting ..\\..\\demos\\iem-chengdu-2024-virtuspro-vs-g2-bo3-UKJhu-hzvbt0t4WV57AyCI.rar ...\n",
      "INFO patool: running \"C:\\Program Files\\7-Zip\\7z.EXE\" x -o..\\..\\demos -- ..\\..\\demos\\iem-chengdu-2024-virtuspro-vs-g2-bo3-UKJhu-hzvbt0t4WV57AyCI.rar\n",
      "INFO patool:     with input=\n"
     ]
    },
    {
     "name": "stdout",
     "output_type": "stream",
     "text": [
      "her2\n",
      "Unzipping <class 'zip'>\n"
     ]
    },
    {
     "name": "stderr",
     "output_type": "stream",
     "text": [
      "INFO patool: ... ..\\..\\demos\\iem-chengdu-2024-virtuspro-vs-g2-bo3-UKJhu-hzvbt0t4WV57AyCI.rar extracted to `..\\..\\demos'.\n"
     ]
    },
    {
     "name": "stdout",
     "output_type": "stream",
     "text": [
      "..\\..\\demos\\virtuspro-vs-g2-m1-anubis.dem\n",
      "her1\n",
      "her2\n",
      "..\\..\\demos\\virtuspro-vs-g2-m2-overpass.dem\n"
     ]
    },
    {
     "name": "stderr",
     "output_type": "stream",
     "text": [
      "\u001b[32m2024-05-05 19:14:32.183\u001b[0m | \u001b[33m\u001b[1mWARNING \u001b[0m | \u001b[36mawpy.parsers\u001b[0m:\u001b[36mparse_bomb\u001b[0m:\u001b[36m501\u001b[0m - \u001b[33m\u001b[1mbomb_defused not found in events.\u001b[0m\n"
     ]
    },
    {
     "name": "stdout",
     "output_type": "stream",
     "text": [
      "her1\n"
     ]
    },
    {
     "name": "stderr",
     "output_type": "stream",
     "text": [
      "INFO patool: Extracting ..\\..\\demos\\iem-dallas-2024-europe-closed-qualifier-ence-vs-heroic-bo3-eVeaPl1u4XN5djudF-hAv4.rar ...\n",
      "INFO patool: running \"C:\\Program Files\\7-Zip\\7z.EXE\" x -o..\\..\\demos -- ..\\..\\demos\\iem-dallas-2024-europe-closed-qualifier-ence-vs-heroic-bo3-eVeaPl1u4XN5djudF-hAv4.rar\n",
      "INFO patool:     with input=\n"
     ]
    },
    {
     "name": "stdout",
     "output_type": "stream",
     "text": [
      "her2\n",
      "Unzipping <class 'zip'>\n"
     ]
    },
    {
     "name": "stderr",
     "output_type": "stream",
     "text": [
      "INFO patool: ... ..\\..\\demos\\iem-dallas-2024-europe-closed-qualifier-ence-vs-heroic-bo3-eVeaPl1u4XN5djudF-hAv4.rar extracted to `..\\..\\demos'.\n"
     ]
    },
    {
     "name": "stdout",
     "output_type": "stream",
     "text": [
      "..\\..\\demos\\ence-vs-heroic-m1-ancient.dem\n",
      "her1\n",
      "her2\n",
      "..\\..\\demos\\ence-vs-heroic-m2-nuke.dem\n",
      "her1\n",
      "her2\n",
      "..\\..\\demos\\ence-vs-heroic-m3-overpass.dem\n",
      "her1\n"
     ]
    },
    {
     "name": "stderr",
     "output_type": "stream",
     "text": [
      "INFO patool: Extracting ..\\..\\demos\\iem-dallas-2024-europe-closed-qualifier-heroic-vs-virtuspro-bo3-z9EugwIQBuIkb39z9c9oBt.rar ...\n",
      "INFO patool: running \"C:\\Program Files\\7-Zip\\7z.EXE\" x -o..\\..\\demos -- ..\\..\\demos\\iem-dallas-2024-europe-closed-qualifier-heroic-vs-virtuspro-bo3-z9EugwIQBuIkb39z9c9oBt.rar\n",
      "INFO patool:     with input=\n"
     ]
    },
    {
     "name": "stdout",
     "output_type": "stream",
     "text": [
      "her2\n",
      "Unzipping <class 'zip'>\n"
     ]
    },
    {
     "name": "stderr",
     "output_type": "stream",
     "text": [
      "INFO patool: ... ..\\..\\demos\\iem-dallas-2024-europe-closed-qualifier-heroic-vs-virtuspro-bo3-z9EugwIQBuIkb39z9c9oBt.rar extracted to `..\\..\\demos'.\n"
     ]
    },
    {
     "name": "stdout",
     "output_type": "stream",
     "text": [
      "..\\..\\demos\\heroic-vs-virtus-pro-m1-overpass.dem\n",
      "her1\n",
      "her2\n",
      "..\\..\\demos\\heroic-vs-virtus-pro-m2-mirage.dem\n",
      "her1\n"
     ]
    },
    {
     "name": "stderr",
     "output_type": "stream",
     "text": [
      "INFO patool: Extracting ..\\..\\demos\\iem-dallas-2024-europe-closed-qualifier-virtuspro-vs-apeks-bo3-c1LyD0hsWXXowEGU4VWLeY.rar ...\n",
      "INFO patool: running \"C:\\Program Files\\7-Zip\\7z.EXE\" x -o..\\..\\demos -- ..\\..\\demos\\iem-dallas-2024-europe-closed-qualifier-virtuspro-vs-apeks-bo3-c1LyD0hsWXXowEGU4VWLeY.rar\n",
      "INFO patool:     with input=\n"
     ]
    },
    {
     "name": "stdout",
     "output_type": "stream",
     "text": [
      "her2\n",
      "Unzipping <class 'zip'>\n"
     ]
    },
    {
     "name": "stderr",
     "output_type": "stream",
     "text": [
      "INFO patool: ... ..\\..\\demos\\iem-dallas-2024-europe-closed-qualifier-virtuspro-vs-apeks-bo3-c1LyD0hsWXXowEGU4VWLeY.rar extracted to `..\\..\\demos'.\n"
     ]
    },
    {
     "name": "stdout",
     "output_type": "stream",
     "text": [
      "..\\..\\demos\\virtus-pro-vs-apeks-m1-overpass-p1.dem\n",
      "her1\n",
      "her2\n",
      "..\\..\\demos\\virtus-pro-vs-apeks-m1-overpass-p2.dem\n",
      "her1\n",
      "her2\n",
      "..\\..\\demos\\virtus-pro-vs-apeks-m1-overpass-p3.dem\n",
      "Error: \"None of [Index(['start', 'freeze_end', 'end', 'official_end'], dtype='object', name='event')] are in the [columns]\"\n",
      "..\\..\\demos\\virtus-pro-vs-apeks-m2-anubis.dem\n",
      "her1\n"
     ]
    },
    {
     "name": "stderr",
     "output_type": "stream",
     "text": [
      "C:\\Users\\Baht\\AppData\\Local\\Temp\\ipykernel_23980\\59082995.py:44: SettingWithCopyWarning: \n",
      "A value is trying to be set on a copy of a slice from a DataFrame.\n",
      "Try using .loc[row_indexer,col_indexer] = value instead\n",
      "\n",
      "See the caveats in the documentation: https://pandas.pydata.org/pandas-docs/stable/user_guide/indexing.html#returning-a-view-versus-a-copy\n",
      "  player_df['position_players_thrown'] = list(zip(player_df['X_players_thrown'], player_df['Y_players_thrown'], player_df['Z_players_thrown']))\n"
     ]
    },
    {
     "name": "stdout",
     "output_type": "stream",
     "text": [
      "her2\n",
      "..\\..\\demos\\virtus-pro-vs-apeks-m3-mirage.dem\n",
      "her1\n"
     ]
    },
    {
     "name": "stderr",
     "output_type": "stream",
     "text": [
      "INFO patool: Extracting ..\\..\\demos\\pgl-cs2-major-copenhagen-2024-americas-rmr-furia-vs-complexity-bo3-zrOsJg8lBsTK80jIBlb-9d.rar ...\n",
      "INFO patool: running \"C:\\Program Files\\7-Zip\\7z.EXE\" x -o..\\..\\demos -- ..\\..\\demos\\pgl-cs2-major-copenhagen-2024-americas-rmr-furia-vs-complexity-bo3-zrOsJg8lBsTK80jIBlb-9d.rar\n",
      "INFO patool:     with input=\n"
     ]
    },
    {
     "name": "stdout",
     "output_type": "stream",
     "text": [
      "her2\n",
      "Unzipping <class 'zip'>\n"
     ]
    },
    {
     "name": "stderr",
     "output_type": "stream",
     "text": [
      "INFO patool: ... ..\\..\\demos\\pgl-cs2-major-copenhagen-2024-americas-rmr-furia-vs-complexity-bo3-zrOsJg8lBsTK80jIBlb-9d.rar extracted to `..\\..\\demos'.\n"
     ]
    },
    {
     "name": "stdout",
     "output_type": "stream",
     "text": [
      "..\\..\\demos\\furia-vs-complexity-m1-overpass.dem\n",
      "her1\n",
      "her2\n",
      "..\\..\\demos\\furia-vs-complexity-m2-vertigo.dem\n",
      "her1\n",
      "her2\n",
      "..\\..\\demos\\furia-vs-complexity-m3-nuke.dem\n",
      "her1\n"
     ]
    },
    {
     "name": "stderr",
     "output_type": "stream",
     "text": [
      "INFO patool: Extracting ..\\..\\demos\\pgl-cs2-major-copenhagen-2024-cloud9-vs-natus-vincere-bo3-oQfvSpUlFLOUFqzW1d2rks.rar ...\n",
      "INFO patool: running \"C:\\Program Files\\7-Zip\\7z.EXE\" x -o..\\..\\demos -- ..\\..\\demos\\pgl-cs2-major-copenhagen-2024-cloud9-vs-natus-vincere-bo3-oQfvSpUlFLOUFqzW1d2rks.rar\n",
      "INFO patool:     with input=\n"
     ]
    },
    {
     "name": "stdout",
     "output_type": "stream",
     "text": [
      "her2\n",
      "Unzipping <class 'zip'>\n"
     ]
    },
    {
     "name": "stderr",
     "output_type": "stream",
     "text": [
      "INFO patool: ... ..\\..\\demos\\pgl-cs2-major-copenhagen-2024-cloud9-vs-natus-vincere-bo3-oQfvSpUlFLOUFqzW1d2rks.rar extracted to `..\\..\\demos'.\n"
     ]
    },
    {
     "name": "stdout",
     "output_type": "stream",
     "text": [
      "..\\..\\demos\\cloud9-vs-natus-vincere-m1-mirage.dem\n",
      "her1\n",
      "her2\n",
      "..\\..\\demos\\cloud9-vs-natus-vincere-m2-ancient.dem\n",
      "her1\n",
      "her2\n",
      "..\\..\\demos\\cloud9-vs-natus-vincere-m3-overpass.dem\n",
      "her1\n"
     ]
    },
    {
     "name": "stderr",
     "output_type": "stream",
     "text": [
      "INFO patool: Extracting ..\\..\\demos\\pgl-cs2-major-copenhagen-2024-cloud9-vs-vitality-bo3-RvWbJFcoqQS_A5b3fq8wkN.rar ...\n",
      "INFO patool: running \"C:\\Program Files\\7-Zip\\7z.EXE\" x -o..\\..\\demos -- ..\\..\\demos\\pgl-cs2-major-copenhagen-2024-cloud9-vs-vitality-bo3-RvWbJFcoqQS_A5b3fq8wkN.rar\n",
      "INFO patool:     with input=\n"
     ]
    },
    {
     "name": "stdout",
     "output_type": "stream",
     "text": [
      "her2\n",
      "Unzipping <class 'zip'>\n"
     ]
    },
    {
     "name": "stderr",
     "output_type": "stream",
     "text": [
      "INFO patool: ... ..\\..\\demos\\pgl-cs2-major-copenhagen-2024-cloud9-vs-vitality-bo3-RvWbJFcoqQS_A5b3fq8wkN.rar extracted to `..\\..\\demos'.\n"
     ]
    },
    {
     "name": "stdout",
     "output_type": "stream",
     "text": [
      "..\\..\\demos\\cloud9-vs-vitality-m1-inferno.dem\n",
      "her1\n",
      "her2\n",
      "..\\..\\demos\\cloud9-vs-vitality-m2-anubis.dem\n",
      "her1\n"
     ]
    },
    {
     "name": "stderr",
     "output_type": "stream",
     "text": [
      "INFO patool: Extracting ..\\..\\demos\\pgl-cs2-major-copenhagen-2024-complexity-vs-faze-bo3-0Y6rNNqD4oarpTl1Wge0b2.rar ...\n",
      "INFO patool: running \"C:\\Program Files\\7-Zip\\7z.EXE\" x -o..\\..\\demos -- ..\\..\\demos\\pgl-cs2-major-copenhagen-2024-complexity-vs-faze-bo3-0Y6rNNqD4oarpTl1Wge0b2.rar\n",
      "INFO patool:     with input=\n"
     ]
    },
    {
     "name": "stdout",
     "output_type": "stream",
     "text": [
      "her2\n",
      "Unzipping <class 'zip'>\n"
     ]
    },
    {
     "name": "stderr",
     "output_type": "stream",
     "text": [
      "INFO patool: ... ..\\..\\demos\\pgl-cs2-major-copenhagen-2024-complexity-vs-faze-bo3-0Y6rNNqD4oarpTl1Wge0b2.rar extracted to `..\\..\\demos'.\n"
     ]
    },
    {
     "name": "stdout",
     "output_type": "stream",
     "text": [
      "..\\..\\demos\\complexity-vs-faze-m1-nuke.dem\n",
      "her1\n",
      "her2\n",
      "..\\..\\demos\\complexity-vs-faze-m2-overpass.dem\n",
      "her1\n"
     ]
    },
    {
     "name": "stderr",
     "output_type": "stream",
     "text": [
      "INFO patool: Extracting ..\\..\\demos\\pgl-cs2-major-copenhagen-2024-complexity-vs-heroic-vertigo-9wgVsYg_4-0DPx9ORnqEX4.rar ...\n",
      "INFO patool: running \"C:\\Program Files\\7-Zip\\7z.EXE\" x -o..\\..\\demos -- ..\\..\\demos\\pgl-cs2-major-copenhagen-2024-complexity-vs-heroic-vertigo-9wgVsYg_4-0DPx9ORnqEX4.rar\n",
      "INFO patool:     with input=\n"
     ]
    },
    {
     "name": "stdout",
     "output_type": "stream",
     "text": [
      "her2\n",
      "Unzipping <class 'zip'>\n"
     ]
    },
    {
     "name": "stderr",
     "output_type": "stream",
     "text": [
      "INFO patool: ... ..\\..\\demos\\pgl-cs2-major-copenhagen-2024-complexity-vs-heroic-vertigo-9wgVsYg_4-0DPx9ORnqEX4.rar extracted to `..\\..\\demos'.\n"
     ]
    },
    {
     "name": "stdout",
     "output_type": "stream",
     "text": [
      "..\\..\\demos\\complexity-vs-heroic-vertigo.dem\n",
      "her1\n"
     ]
    },
    {
     "name": "stderr",
     "output_type": "stream",
     "text": [
      "INFO patool: Extracting ..\\..\\demos\\pgl-cs2-major-copenhagen-2024-complexity-vs-vitality-bo3-sY4ulkzdMckO1RJnk-7NRf.rar ...\n",
      "INFO patool: running \"C:\\Program Files\\7-Zip\\7z.EXE\" x -o..\\..\\demos -- ..\\..\\demos\\pgl-cs2-major-copenhagen-2024-complexity-vs-vitality-bo3-sY4ulkzdMckO1RJnk-7NRf.rar\n",
      "INFO patool:     with input=\n"
     ]
    },
    {
     "name": "stdout",
     "output_type": "stream",
     "text": [
      "her2\n",
      "Unzipping <class 'zip'>\n"
     ]
    },
    {
     "name": "stderr",
     "output_type": "stream",
     "text": [
      "INFO patool: ... ..\\..\\demos\\pgl-cs2-major-copenhagen-2024-complexity-vs-vitality-bo3-sY4ulkzdMckO1RJnk-7NRf.rar extracted to `..\\..\\demos'.\n"
     ]
    },
    {
     "name": "stdout",
     "output_type": "stream",
     "text": [
      "..\\..\\demos\\complexity-vs-vitality-m1-inferno.dem\n",
      "her1\n",
      "her2\n",
      "..\\..\\demos\\complexity-vs-vitality-m2-vertigo.dem\n",
      "her1\n"
     ]
    },
    {
     "name": "stderr",
     "output_type": "stream",
     "text": [
      "C:\\Users\\Baht\\AppData\\Local\\Temp\\ipykernel_23980\\59082995.py:44: SettingWithCopyWarning: \n",
      "A value is trying to be set on a copy of a slice from a DataFrame.\n",
      "Try using .loc[row_indexer,col_indexer] = value instead\n",
      "\n",
      "See the caveats in the documentation: https://pandas.pydata.org/pandas-docs/stable/user_guide/indexing.html#returning-a-view-versus-a-copy\n",
      "  player_df['position_players_thrown'] = list(zip(player_df['X_players_thrown'], player_df['Y_players_thrown'], player_df['Z_players_thrown']))\n"
     ]
    },
    {
     "name": "stdout",
     "output_type": "stream",
     "text": [
      "her2\n",
      "..\\..\\demos\\complexity-vs-vitality-m3-anubis.dem\n",
      "her1\n"
     ]
    },
    {
     "name": "stderr",
     "output_type": "stream",
     "text": [
      "INFO patool: Extracting ..\\..\\demos\\pgl-cs2-major-copenhagen-2024-eternal-fire-vs-faze-overpass-ic--GsfoJJ_je4B5-OKFFW.rar ...\n",
      "INFO patool: running \"C:\\Program Files\\7-Zip\\7z.EXE\" x -o..\\..\\demos -- ..\\..\\demos\\pgl-cs2-major-copenhagen-2024-eternal-fire-vs-faze-overpass-ic--GsfoJJ_je4B5-OKFFW.rar\n",
      "INFO patool:     with input=\n"
     ]
    },
    {
     "name": "stdout",
     "output_type": "stream",
     "text": [
      "her2\n",
      "Unzipping <class 'zip'>\n"
     ]
    },
    {
     "name": "stderr",
     "output_type": "stream",
     "text": [
      "INFO patool: ... ..\\..\\demos\\pgl-cs2-major-copenhagen-2024-eternal-fire-vs-faze-overpass-ic--GsfoJJ_je4B5-OKFFW.rar extracted to `..\\..\\demos'.\n"
     ]
    },
    {
     "name": "stdout",
     "output_type": "stream",
     "text": [
      "..\\..\\demos\\eternal-fire-vs-faze-overpass.dem\n",
      "her1\n"
     ]
    },
    {
     "name": "stderr",
     "output_type": "stream",
     "text": [
      "INFO patool: Extracting ..\\..\\demos\\pgl-cs2-major-copenhagen-2024-eternal-fire-vs-natus-vincere-bo3-9-IU6vp4Wb-l2e_bLhJGev.rar ...\n",
      "INFO patool: running \"C:\\Program Files\\7-Zip\\7z.EXE\" x -o..\\..\\demos -- ..\\..\\demos\\pgl-cs2-major-copenhagen-2024-eternal-fire-vs-natus-vincere-bo3-9-IU6vp4Wb-l2e_bLhJGev.rar\n",
      "INFO patool:     with input=\n"
     ]
    },
    {
     "name": "stdout",
     "output_type": "stream",
     "text": [
      "her2\n",
      "Unzipping <class 'zip'>\n"
     ]
    },
    {
     "name": "stderr",
     "output_type": "stream",
     "text": [
      "INFO patool: ... ..\\..\\demos\\pgl-cs2-major-copenhagen-2024-eternal-fire-vs-natus-vincere-bo3-9-IU6vp4Wb-l2e_bLhJGev.rar extracted to `..\\..\\demos'.\n"
     ]
    },
    {
     "name": "stdout",
     "output_type": "stream",
     "text": [
      "..\\..\\demos\\eternal-fire-vs-natus-vincere-m1-mirage.dem\n",
      "her1\n",
      "her2\n",
      "..\\..\\demos\\eternal-fire-vs-natus-vincere-m2-inferno.dem\n",
      "her1\n"
     ]
    },
    {
     "name": "stderr",
     "output_type": "stream",
     "text": [
      "INFO patool: Extracting ..\\..\\demos\\pgl-cs2-major-copenhagen-2024-eternal-fire-vs-virtuspro-bo3--WE3FAQTdtn9TPHht4Fs3g.rar ...\n",
      "INFO patool: running \"C:\\Program Files\\7-Zip\\7z.EXE\" x -o..\\..\\demos -- ..\\..\\demos\\pgl-cs2-major-copenhagen-2024-eternal-fire-vs-virtuspro-bo3--WE3FAQTdtn9TPHht4Fs3g.rar\n",
      "INFO patool:     with input=\n"
     ]
    },
    {
     "name": "stdout",
     "output_type": "stream",
     "text": [
      "her2\n",
      "Unzipping <class 'zip'>\n"
     ]
    },
    {
     "name": "stderr",
     "output_type": "stream",
     "text": [
      "INFO patool: ... ..\\..\\demos\\pgl-cs2-major-copenhagen-2024-eternal-fire-vs-virtuspro-bo3--WE3FAQTdtn9TPHht4Fs3g.rar extracted to `..\\..\\demos'.\n"
     ]
    },
    {
     "name": "stdout",
     "output_type": "stream",
     "text": [
      "..\\..\\demos\\eternal-fire-vs-virtus-pro-m1-overpass.dem\n",
      "her1\n",
      "her2\n",
      "..\\..\\demos\\eternal-fire-vs-virtus-pro-m2-vertigo.dem\n",
      "her1\n",
      "her2\n",
      "..\\..\\demos\\eternal-fire-vs-virtus-pro-m3-inferno.dem\n",
      "her1\n"
     ]
    },
    {
     "name": "stderr",
     "output_type": "stream",
     "text": [
      "INFO patool: Extracting ..\\..\\demos\\pgl-cs2-major-copenhagen-2024-faze-vs-furia-ancient-6n2H94IPk0QcSAMLCw6xcI.rar ...\n",
      "INFO patool: running \"C:\\Program Files\\7-Zip\\7z.EXE\" x -o..\\..\\demos -- ..\\..\\demos\\pgl-cs2-major-copenhagen-2024-faze-vs-furia-ancient-6n2H94IPk0QcSAMLCw6xcI.rar\n",
      "INFO patool:     with input=\n"
     ]
    },
    {
     "name": "stdout",
     "output_type": "stream",
     "text": [
      "her2\n",
      "Unzipping <class 'zip'>\n"
     ]
    },
    {
     "name": "stderr",
     "output_type": "stream",
     "text": [
      "INFO patool: ... ..\\..\\demos\\pgl-cs2-major-copenhagen-2024-faze-vs-furia-ancient-6n2H94IPk0QcSAMLCw6xcI.rar extracted to `..\\..\\demos'.\n"
     ]
    },
    {
     "name": "stdout",
     "output_type": "stream",
     "text": [
      "..\\..\\demos\\faze-vs-furia-ancient.dem\n",
      "her1\n"
     ]
    },
    {
     "name": "stderr",
     "output_type": "stream",
     "text": [
      "INFO patool: Extracting ..\\..\\demos\\pgl-cs2-major-copenhagen-2024-faze-vs-heroic-ancient-cu0qCT7gVASh1ov4WJafjh.rar ...\n",
      "INFO patool: running \"C:\\Program Files\\7-Zip\\7z.EXE\" x -o..\\..\\demos -- ..\\..\\demos\\pgl-cs2-major-copenhagen-2024-faze-vs-heroic-ancient-cu0qCT7gVASh1ov4WJafjh.rar\n",
      "INFO patool:     with input=\n"
     ]
    },
    {
     "name": "stdout",
     "output_type": "stream",
     "text": [
      "her2\n",
      "Unzipping <class 'zip'>\n"
     ]
    },
    {
     "name": "stderr",
     "output_type": "stream",
     "text": [
      "INFO patool: ... ..\\..\\demos\\pgl-cs2-major-copenhagen-2024-faze-vs-heroic-ancient-cu0qCT7gVASh1ov4WJafjh.rar extracted to `..\\..\\demos'.\n"
     ]
    },
    {
     "name": "stdout",
     "output_type": "stream",
     "text": [
      "..\\..\\demos\\faze-vs-heroic-ancient.dem\n",
      "her1\n"
     ]
    },
    {
     "name": "stderr",
     "output_type": "stream",
     "text": [
      "INFO patool: Extracting ..\\..\\demos\\pgl-cs2-major-copenhagen-2024-faze-vs-natus-vincere-bo3-QEOvW4A6iftqXM-MiRXq-9.rar ...\n",
      "INFO patool: running \"C:\\Program Files\\7-Zip\\7z.EXE\" x -o..\\..\\demos -- ..\\..\\demos\\pgl-cs2-major-copenhagen-2024-faze-vs-natus-vincere-bo3-QEOvW4A6iftqXM-MiRXq-9.rar\n",
      "INFO patool:     with input=\n"
     ]
    },
    {
     "name": "stdout",
     "output_type": "stream",
     "text": [
      "her2\n",
      "Unzipping <class 'zip'>\n"
     ]
    },
    {
     "name": "stderr",
     "output_type": "stream",
     "text": [
      "INFO patool: ... ..\\..\\demos\\pgl-cs2-major-copenhagen-2024-faze-vs-natus-vincere-bo3-QEOvW4A6iftqXM-MiRXq-9.rar extracted to `..\\..\\demos'.\n"
     ]
    },
    {
     "name": "stdout",
     "output_type": "stream",
     "text": [
      "..\\..\\demos\\faze-vs-natus-vincere-m1-ancient.dem\n",
      "her1\n",
      "her2\n",
      "..\\..\\demos\\faze-vs-natus-vincere-m2-mirage.dem\n",
      "her1\n",
      "her2\n",
      "..\\..\\demos\\faze-vs-natus-vincere-m3-inferno.dem\n",
      "her1\n"
     ]
    },
    {
     "name": "stderr",
     "output_type": "stream",
     "text": [
      "INFO patool: Extracting ..\\..\\demos\\pgl-cs2-major-copenhagen-2024-g2-vs-cloud9-anubis--Z-rWUbZAX4E7fpgnzpYBI.rar ...\n",
      "INFO patool: running \"C:\\Program Files\\7-Zip\\7z.EXE\" x -o..\\..\\demos -- ..\\..\\demos\\pgl-cs2-major-copenhagen-2024-g2-vs-cloud9-anubis--Z-rWUbZAX4E7fpgnzpYBI.rar\n",
      "INFO patool:     with input=\n"
     ]
    },
    {
     "name": "stdout",
     "output_type": "stream",
     "text": [
      "her2\n",
      "Unzipping <class 'zip'>\n"
     ]
    },
    {
     "name": "stderr",
     "output_type": "stream",
     "text": [
      "INFO patool: ... ..\\..\\demos\\pgl-cs2-major-copenhagen-2024-g2-vs-cloud9-anubis--Z-rWUbZAX4E7fpgnzpYBI.rar extracted to `..\\..\\demos'.\n"
     ]
    },
    {
     "name": "stdout",
     "output_type": "stream",
     "text": [
      "..\\..\\demos\\g2-vs-cloud9-anubis.dem\n",
      "her1\n"
     ]
    },
    {
     "name": "stderr",
     "output_type": "stream",
     "text": [
      "INFO patool: Extracting ..\\..\\demos\\pgl-cs2-major-copenhagen-2024-g2-vs-furia-inferno-aEobAWRtETpILX6JssSwLJ.rar ...\n",
      "INFO patool: running \"C:\\Program Files\\7-Zip\\7z.EXE\" x -o..\\..\\demos -- ..\\..\\demos\\pgl-cs2-major-copenhagen-2024-g2-vs-furia-inferno-aEobAWRtETpILX6JssSwLJ.rar\n",
      "INFO patool:     with input=\n"
     ]
    },
    {
     "name": "stdout",
     "output_type": "stream",
     "text": [
      "her2\n",
      "Unzipping <class 'zip'>\n"
     ]
    },
    {
     "name": "stderr",
     "output_type": "stream",
     "text": [
      "INFO patool: ... ..\\..\\demos\\pgl-cs2-major-copenhagen-2024-g2-vs-furia-inferno-aEobAWRtETpILX6JssSwLJ.rar extracted to `..\\..\\demos'.\n"
     ]
    },
    {
     "name": "stdout",
     "output_type": "stream",
     "text": [
      "..\\..\\demos\\g2-vs-furia-inferno.dem\n",
      "her1\n"
     ]
    },
    {
     "name": "stderr",
     "output_type": "stream",
     "text": [
      "INFO patool: Extracting ..\\..\\demos\\pgl-cs2-major-copenhagen-2024-heroic-vs-virtuspro-ancient-CC20XoNqIa4sZQJmbebIJY.rar ...\n",
      "INFO patool: running \"C:\\Program Files\\7-Zip\\7z.EXE\" x -o..\\..\\demos -- ..\\..\\demos\\pgl-cs2-major-copenhagen-2024-heroic-vs-virtuspro-ancient-CC20XoNqIa4sZQJmbebIJY.rar\n",
      "INFO patool:     with input=\n"
     ]
    },
    {
     "name": "stdout",
     "output_type": "stream",
     "text": [
      "her2\n",
      "Unzipping <class 'zip'>\n"
     ]
    },
    {
     "name": "stderr",
     "output_type": "stream",
     "text": [
      "INFO patool: ... ..\\..\\demos\\pgl-cs2-major-copenhagen-2024-heroic-vs-virtuspro-ancient-CC20XoNqIa4sZQJmbebIJY.rar extracted to `..\\..\\demos'.\n"
     ]
    },
    {
     "name": "stdout",
     "output_type": "stream",
     "text": [
      "..\\..\\demos\\heroic-vs-virtus-pro-ancient.dem\n",
      "her1\n"
     ]
    },
    {
     "name": "stderr",
     "output_type": "stream",
     "text": [
      "C:\\Users\\Baht\\AppData\\Local\\Temp\\ipykernel_23980\\59082995.py:44: SettingWithCopyWarning: \n",
      "A value is trying to be set on a copy of a slice from a DataFrame.\n",
      "Try using .loc[row_indexer,col_indexer] = value instead\n",
      "\n",
      "See the caveats in the documentation: https://pandas.pydata.org/pandas-docs/stable/user_guide/indexing.html#returning-a-view-versus-a-copy\n",
      "  player_df['position_players_thrown'] = list(zip(player_df['X_players_thrown'], player_df['Y_players_thrown'], player_df['Z_players_thrown']))\n",
      "INFO patool: Extracting ..\\..\\demos\\pgl-cs2-major-copenhagen-2024-mouz-vs-complexity-bo3-ToyzC4q4XeomHX0DPW3ARJ.rar ...\n",
      "INFO patool: running \"C:\\Program Files\\7-Zip\\7z.EXE\" x -o..\\..\\demos -- ..\\..\\demos\\pgl-cs2-major-copenhagen-2024-mouz-vs-complexity-bo3-ToyzC4q4XeomHX0DPW3ARJ.rar\n",
      "INFO patool:     with input=\n"
     ]
    },
    {
     "name": "stdout",
     "output_type": "stream",
     "text": [
      "her2\n",
      "Unzipping <class 'zip'>\n"
     ]
    },
    {
     "name": "stderr",
     "output_type": "stream",
     "text": [
      "INFO patool: ... ..\\..\\demos\\pgl-cs2-major-copenhagen-2024-mouz-vs-complexity-bo3-ToyzC4q4XeomHX0DPW3ARJ.rar extracted to `..\\..\\demos'.\n"
     ]
    },
    {
     "name": "stdout",
     "output_type": "stream",
     "text": [
      "..\\..\\demos\\mouz-vs-complexity-m1-overpass.dem\n",
      "her1\n",
      "her2\n",
      "..\\..\\demos\\mouz-vs-complexity-m2-ancient.dem\n",
      "her1\n"
     ]
    },
    {
     "name": "stderr",
     "output_type": "stream",
     "text": [
      "INFO patool: Extracting ..\\..\\demos\\pgl-cs2-major-copenhagen-2024-mouz-vs-eternal-fire-vertigo-HusdIRZUpc0ms7JZWHVqSn.rar ...\n",
      "INFO patool: running \"C:\\Program Files\\7-Zip\\7z.EXE\" x -o..\\..\\demos -- ..\\..\\demos\\pgl-cs2-major-copenhagen-2024-mouz-vs-eternal-fire-vertigo-HusdIRZUpc0ms7JZWHVqSn.rar\n",
      "INFO patool:     with input=\n"
     ]
    },
    {
     "name": "stdout",
     "output_type": "stream",
     "text": [
      "her2\n",
      "Unzipping <class 'zip'>\n"
     ]
    },
    {
     "name": "stderr",
     "output_type": "stream",
     "text": [
      "INFO patool: ... ..\\..\\demos\\pgl-cs2-major-copenhagen-2024-mouz-vs-eternal-fire-vertigo-HusdIRZUpc0ms7JZWHVqSn.rar extracted to `..\\..\\demos'.\n"
     ]
    },
    {
     "name": "stdout",
     "output_type": "stream",
     "text": [
      "..\\..\\demos\\mouz-vs-eternal-fire-vertigo.dem\n",
      "her1\n"
     ]
    },
    {
     "name": "stderr",
     "output_type": "stream",
     "text": [
      "INFO patool: Extracting ..\\..\\demos\\pgl-cs2-major-copenhagen-2024-mouz-vs-g2-bo3-k_35u4wuU34XSYjyDaZHTn.rar ...\n",
      "INFO patool: running \"C:\\Program Files\\7-Zip\\7z.EXE\" x -o..\\..\\demos -- ..\\..\\demos\\pgl-cs2-major-copenhagen-2024-mouz-vs-g2-bo3-k_35u4wuU34XSYjyDaZHTn.rar\n",
      "INFO patool:     with input=\n"
     ]
    },
    {
     "name": "stdout",
     "output_type": "stream",
     "text": [
      "her2\n",
      "Unzipping <class 'zip'>\n"
     ]
    },
    {
     "name": "stderr",
     "output_type": "stream",
     "text": [
      "INFO patool: ... ..\\..\\demos\\pgl-cs2-major-copenhagen-2024-mouz-vs-g2-bo3-k_35u4wuU34XSYjyDaZHTn.rar extracted to `..\\..\\demos'.\n"
     ]
    },
    {
     "name": "stdout",
     "output_type": "stream",
     "text": [
      "..\\..\\demos\\mouz-vs-g2-m1-inferno.dem\n",
      "her1\n",
      "her2\n",
      "..\\..\\demos\\mouz-vs-g2-m2-vertigo.dem\n",
      "her1\n"
     ]
    },
    {
     "name": "stderr",
     "output_type": "stream",
     "text": [
      "INFO patool: Extracting ..\\..\\demos\\pgl-cs2-major-copenhagen-2024-natus-vincere-vs-g2-bo3-YFKVCf5_yV5FcSEhstlQ37.rar ...\n",
      "INFO patool: running \"C:\\Program Files\\7-Zip\\7z.EXE\" x -o..\\..\\demos -- ..\\..\\demos\\pgl-cs2-major-copenhagen-2024-natus-vincere-vs-g2-bo3-YFKVCf5_yV5FcSEhstlQ37.rar\n",
      "INFO patool:     with input=\n"
     ]
    },
    {
     "name": "stdout",
     "output_type": "stream",
     "text": [
      "her2\n",
      "Unzipping <class 'zip'>\n"
     ]
    },
    {
     "name": "stderr",
     "output_type": "stream",
     "text": [
      "INFO patool: ... ..\\..\\demos\\pgl-cs2-major-copenhagen-2024-natus-vincere-vs-g2-bo3-YFKVCf5_yV5FcSEhstlQ37.rar extracted to `..\\..\\demos'.\n"
     ]
    },
    {
     "name": "stdout",
     "output_type": "stream",
     "text": [
      "..\\..\\demos\\natus-vincere-vs-g2-m1-anubis.dem\n",
      "her1\n",
      "her2\n",
      "..\\..\\demos\\natus-vincere-vs-g2-m2-nuke.dem\n",
      "her1\n",
      "her2\n",
      "..\\..\\demos\\natus-vincere-vs-g2-m3-ancient.dem\n",
      "her1\n"
     ]
    },
    {
     "name": "stderr",
     "output_type": "stream",
     "text": [
      "INFO patool: Extracting ..\\..\\demos\\pgl-cs2-major-copenhagen-2024-natus-vincere-vs-g2-nuke-B5bhSQ8f6ntrc4EeuHP3dt.rar ...\n",
      "INFO patool: running \"C:\\Program Files\\7-Zip\\7z.EXE\" x -o..\\..\\demos -- ..\\..\\demos\\pgl-cs2-major-copenhagen-2024-natus-vincere-vs-g2-nuke-B5bhSQ8f6ntrc4EeuHP3dt.rar\n",
      "INFO patool:     with input=\n"
     ]
    },
    {
     "name": "stdout",
     "output_type": "stream",
     "text": [
      "her2\n",
      "Unzipping <class 'zip'>\n"
     ]
    },
    {
     "name": "stderr",
     "output_type": "stream",
     "text": [
      "INFO patool: ... ..\\..\\demos\\pgl-cs2-major-copenhagen-2024-natus-vincere-vs-g2-nuke-B5bhSQ8f6ntrc4EeuHP3dt.rar extracted to `..\\..\\demos'.\n"
     ]
    },
    {
     "name": "stdout",
     "output_type": "stream",
     "text": [
      "..\\..\\demos\\natus-vincere-vs-g2-nuke.dem\n",
      "her1\n"
     ]
    },
    {
     "name": "stderr",
     "output_type": "stream",
     "text": [
      "INFO patool: Extracting ..\\..\\demos\\pgl-cs2-major-copenhagen-2024-natus-vincere-vs-themongolz-mirage-F9snwMaMYhJttQRkuqoQqQ.rar ...\n",
      "INFO patool: running \"C:\\Program Files\\7-Zip\\7z.EXE\" x -o..\\..\\demos -- ..\\..\\demos\\pgl-cs2-major-copenhagen-2024-natus-vincere-vs-themongolz-mirage-F9snwMaMYhJttQRkuqoQqQ.rar\n",
      "INFO patool:     with input=\n"
     ]
    },
    {
     "name": "stdout",
     "output_type": "stream",
     "text": [
      "her2\n",
      "Unzipping <class 'zip'>\n"
     ]
    },
    {
     "name": "stderr",
     "output_type": "stream",
     "text": [
      "INFO patool: ... ..\\..\\demos\\pgl-cs2-major-copenhagen-2024-natus-vincere-vs-themongolz-mirage-F9snwMaMYhJttQRkuqoQqQ.rar extracted to `..\\..\\demos'.\n"
     ]
    },
    {
     "name": "stdout",
     "output_type": "stream",
     "text": [
      "..\\..\\demos\\natus-vincere-vs-themongolz-mirage.dem\n",
      "her1\n"
     ]
    },
    {
     "name": "stderr",
     "output_type": "stream",
     "text": [
      "INFO patool: Extracting ..\\..\\demos\\pgl-cs2-major-copenhagen-2024-opening-stage-cloud9-vs-saw-bo3-q-8Q4kbc3C6OR_YPxJtdu4.rar ...\n",
      "INFO patool: running \"C:\\Program Files\\7-Zip\\7z.EXE\" x -o..\\..\\demos -- ..\\..\\demos\\pgl-cs2-major-copenhagen-2024-opening-stage-cloud9-vs-saw-bo3-q-8Q4kbc3C6OR_YPxJtdu4.rar\n",
      "INFO patool:     with input=\n"
     ]
    },
    {
     "name": "stdout",
     "output_type": "stream",
     "text": [
      "her2\n",
      "Unzipping <class 'zip'>\n"
     ]
    },
    {
     "name": "stderr",
     "output_type": "stream",
     "text": [
      "INFO patool: ... ..\\..\\demos\\pgl-cs2-major-copenhagen-2024-opening-stage-cloud9-vs-saw-bo3-q-8Q4kbc3C6OR_YPxJtdu4.rar extracted to `..\\..\\demos'.\n"
     ]
    },
    {
     "name": "stdout",
     "output_type": "stream",
     "text": [
      "..\\..\\demos\\cloud9-vs-saw-m1-nuke.dem\n",
      "her1\n",
      "her2\n",
      "..\\..\\demos\\cloud9-vs-saw-m2-anubis.dem\n",
      "her1\n"
     ]
    },
    {
     "name": "stderr",
     "output_type": "stream",
     "text": [
      "INFO patool: Extracting ..\\..\\demos\\pgl-cs2-major-copenhagen-2024-opening-stage-ence-vs-furia-bo3-jiJKe4JKxs3SNIwJGOHTdz.rar ...\n",
      "INFO patool: running \"C:\\Program Files\\7-Zip\\7z.EXE\" x -o..\\..\\demos -- ..\\..\\demos\\pgl-cs2-major-copenhagen-2024-opening-stage-ence-vs-furia-bo3-jiJKe4JKxs3SNIwJGOHTdz.rar\n",
      "INFO patool:     with input=\n"
     ]
    },
    {
     "name": "stdout",
     "output_type": "stream",
     "text": [
      "her2\n",
      "Unzipping <class 'zip'>\n"
     ]
    },
    {
     "name": "stderr",
     "output_type": "stream",
     "text": [
      "INFO patool: ... ..\\..\\demos\\pgl-cs2-major-copenhagen-2024-opening-stage-ence-vs-furia-bo3-jiJKe4JKxs3SNIwJGOHTdz.rar extracted to `..\\..\\demos'.\n"
     ]
    },
    {
     "name": "stdout",
     "output_type": "stream",
     "text": [
      "..\\..\\demos\\ence-vs-furia-m1-mirage.dem\n",
      "her1\n",
      "her2\n",
      "..\\..\\demos\\ence-vs-furia-m2-ancient.dem\n",
      "her1\n"
     ]
    },
    {
     "name": "stderr",
     "output_type": "stream",
     "text": [
      "INFO patool: Extracting ..\\..\\demos\\pgl-cs2-major-copenhagen-2024-opening-stage-eternal-fire-vs-gamerlegion-bo3-B7QmAmP99xBEv8NowWJ4Id.rar ...\n",
      "INFO patool: running \"C:\\Program Files\\7-Zip\\7z.EXE\" x -o..\\..\\demos -- ..\\..\\demos\\pgl-cs2-major-copenhagen-2024-opening-stage-eternal-fire-vs-gamerlegion-bo3-B7QmAmP99xBEv8NowWJ4Id.rar\n",
      "INFO patool:     with input=\n"
     ]
    },
    {
     "name": "stdout",
     "output_type": "stream",
     "text": [
      "her2\n",
      "Unzipping <class 'zip'>\n"
     ]
    },
    {
     "name": "stderr",
     "output_type": "stream",
     "text": [
      "INFO patool: ... ..\\..\\demos\\pgl-cs2-major-copenhagen-2024-opening-stage-eternal-fire-vs-gamerlegion-bo3-B7QmAmP99xBEv8NowWJ4Id.rar extracted to `..\\..\\demos'.\n"
     ]
    },
    {
     "name": "stdout",
     "output_type": "stream",
     "text": [
      "..\\..\\demos\\eternal-fire-vs-gamerlegion-m1-overpass.dem\n"
     ]
    },
    {
     "name": "stderr",
     "output_type": "stream",
     "text": [
      "\u001b[32m2024-05-05 19:31:48.376\u001b[0m | \u001b[33m\u001b[1mWARNING \u001b[0m | \u001b[36mawpy.parsers\u001b[0m:\u001b[36mparse_bomb\u001b[0m:\u001b[36m501\u001b[0m - \u001b[33m\u001b[1mbomb_defused not found in events.\u001b[0m\n"
     ]
    },
    {
     "name": "stdout",
     "output_type": "stream",
     "text": [
      "her1\n",
      "her2\n",
      "..\\..\\demos\\eternal-fire-vs-gamerlegion-m2-inferno.dem\n",
      "her1\n",
      "her2\n",
      "..\\..\\demos\\eternal-fire-vs-gamerlegion-m3-vertigo.dem\n",
      "her1\n"
     ]
    },
    {
     "name": "stderr",
     "output_type": "stream",
     "text": [
      "INFO patool: Extracting ..\\..\\demos\\pgl-cs2-major-copenhagen-2024-opening-stage-gamerlegion-vs-saw-vertigo-uYZqOubyW2Mnlb3y0X8IUp.rar ...\n",
      "INFO patool: running \"C:\\Program Files\\7-Zip\\7z.EXE\" x -o..\\..\\demos -- ..\\..\\demos\\pgl-cs2-major-copenhagen-2024-opening-stage-gamerlegion-vs-saw-vertigo-uYZqOubyW2Mnlb3y0X8IUp.rar\n",
      "INFO patool:     with input=\n"
     ]
    },
    {
     "name": "stdout",
     "output_type": "stream",
     "text": [
      "her2\n",
      "Unzipping <class 'zip'>\n"
     ]
    },
    {
     "name": "stderr",
     "output_type": "stream",
     "text": [
      "INFO patool: ... ..\\..\\demos\\pgl-cs2-major-copenhagen-2024-opening-stage-gamerlegion-vs-saw-vertigo-uYZqOubyW2Mnlb3y0X8IUp.rar extracted to `..\\..\\demos'.\n"
     ]
    },
    {
     "name": "stdout",
     "output_type": "stream",
     "text": [
      "..\\..\\demos\\gamerlegion-vs-saw-vertigo.dem\n",
      "her1\n"
     ]
    },
    {
     "name": "stderr",
     "output_type": "stream",
     "text": [
      "C:\\Users\\Baht\\AppData\\Local\\Temp\\ipykernel_23980\\59082995.py:44: SettingWithCopyWarning: \n",
      "A value is trying to be set on a copy of a slice from a DataFrame.\n",
      "Try using .loc[row_indexer,col_indexer] = value instead\n",
      "\n",
      "See the caveats in the documentation: https://pandas.pydata.org/pandas-docs/stable/user_guide/indexing.html#returning-a-view-versus-a-copy\n",
      "  player_df['position_players_thrown'] = list(zip(player_df['X_players_thrown'], player_df['Y_players_thrown'], player_df['Z_players_thrown']))\n",
      "INFO patool: Extracting ..\\..\\demos\\pgl-cs2-major-copenhagen-2024-opening-stage-heroic-vs-eternal-fire-bo3-w3b1lkMrjVynVwW1CHI67R.rar ...\n",
      "INFO patool: running \"C:\\Program Files\\7-Zip\\7z.EXE\" x -o..\\..\\demos -- ..\\..\\demos\\pgl-cs2-major-copenhagen-2024-opening-stage-heroic-vs-eternal-fire-bo3-w3b1lkMrjVynVwW1CHI67R.rar\n",
      "INFO patool:     with input=\n"
     ]
    },
    {
     "name": "stdout",
     "output_type": "stream",
     "text": [
      "her2\n",
      "Unzipping <class 'zip'>\n"
     ]
    },
    {
     "name": "stderr",
     "output_type": "stream",
     "text": [
      "INFO patool: ... ..\\..\\demos\\pgl-cs2-major-copenhagen-2024-opening-stage-heroic-vs-eternal-fire-bo3-w3b1lkMrjVynVwW1CHI67R.rar extracted to `..\\..\\demos'.\n"
     ]
    },
    {
     "name": "stdout",
     "output_type": "stream",
     "text": [
      "..\\..\\demos\\heroic-vs-eternal-fire-m1-vertigo.dem\n",
      "her1\n",
      "her2\n",
      "..\\..\\demos\\heroic-vs-eternal-fire-m2-mirage.dem\n",
      "her1\n"
     ]
    },
    {
     "name": "stderr",
     "output_type": "stream",
     "text": [
      "INFO patool: Extracting ..\\..\\demos\\pgl-cs2-major-copenhagen-2024-opening-stage-saw-vs-furia-bo3-zIieO-2g6Qps6xfwrgNgDm.rar ...\n",
      "INFO patool: running \"C:\\Program Files\\7-Zip\\7z.EXE\" x -o..\\..\\demos -- ..\\..\\demos\\pgl-cs2-major-copenhagen-2024-opening-stage-saw-vs-furia-bo3-zIieO-2g6Qps6xfwrgNgDm.rar\n",
      "INFO patool:     with input=\n"
     ]
    },
    {
     "name": "stdout",
     "output_type": "stream",
     "text": [
      "her2\n",
      "Unzipping <class 'zip'>\n"
     ]
    },
    {
     "name": "stderr",
     "output_type": "stream",
     "text": [
      "INFO patool: ... ..\\..\\demos\\pgl-cs2-major-copenhagen-2024-opening-stage-saw-vs-furia-bo3-zIieO-2g6Qps6xfwrgNgDm.rar extracted to `..\\..\\demos'.\n"
     ]
    },
    {
     "name": "stdout",
     "output_type": "stream",
     "text": [
      "..\\..\\demos\\saw-vs-furia-m1-vertigo.dem\n",
      "her1\n",
      "her2\n",
      "..\\..\\demos\\saw-vs-furia-m2-ancient.dem\n",
      "her1\n"
     ]
    },
    {
     "name": "stderr",
     "output_type": "stream",
     "text": [
      "INFO patool: Extracting ..\\..\\demos\\pgl-cs2-major-copenhagen-2024-spirit-vs-cloud9-ancient-hjDcwCpvXX2acSGLb4UrrV.rar ...\n",
      "INFO patool: running \"C:\\Program Files\\7-Zip\\7z.EXE\" x -o..\\..\\demos -- ..\\..\\demos\\pgl-cs2-major-copenhagen-2024-spirit-vs-cloud9-ancient-hjDcwCpvXX2acSGLb4UrrV.rar\n",
      "INFO patool:     with input=\n"
     ]
    },
    {
     "name": "stdout",
     "output_type": "stream",
     "text": [
      "her2\n",
      "Unzipping <class 'zip'>\n"
     ]
    },
    {
     "name": "stderr",
     "output_type": "stream",
     "text": [
      "INFO patool: ... ..\\..\\demos\\pgl-cs2-major-copenhagen-2024-spirit-vs-cloud9-ancient-hjDcwCpvXX2acSGLb4UrrV.rar extracted to `..\\..\\demos'.\n"
     ]
    },
    {
     "name": "stdout",
     "output_type": "stream",
     "text": [
      "..\\..\\demos\\spirit-vs-cloud9-ancient.dem\n",
      "her1\n"
     ]
    },
    {
     "name": "stderr",
     "output_type": "stream",
     "text": [
      "INFO patool: Extracting ..\\..\\demos\\pgl-cs2-major-copenhagen-2024-spirit-vs-faze-bo3-PsoWO6oB0uv9ghWrlIDEYn.rar ...\n",
      "INFO patool: running \"C:\\Program Files\\7-Zip\\7z.EXE\" x -o..\\..\\demos -- ..\\..\\demos\\pgl-cs2-major-copenhagen-2024-spirit-vs-faze-bo3-PsoWO6oB0uv9ghWrlIDEYn.rar\n",
      "INFO patool:     with input=\n"
     ]
    },
    {
     "name": "stdout",
     "output_type": "stream",
     "text": [
      "her2\n",
      "Unzipping <class 'zip'>\n"
     ]
    },
    {
     "name": "stderr",
     "output_type": "stream",
     "text": [
      "INFO patool: ... ..\\..\\demos\\pgl-cs2-major-copenhagen-2024-spirit-vs-faze-bo3-PsoWO6oB0uv9ghWrlIDEYn.rar extracted to `..\\..\\demos'.\n"
     ]
    },
    {
     "name": "stdout",
     "output_type": "stream",
     "text": [
      "..\\..\\demos\\spirit-vs-faze-m1-mirage.dem\n"
     ]
    },
    {
     "name": "stderr",
     "output_type": "stream",
     "text": [
      "\u001b[32m2024-05-05 19:34:39.680\u001b[0m | \u001b[33m\u001b[1mWARNING \u001b[0m | \u001b[36mawpy.parsers\u001b[0m:\u001b[36mparse_bomb\u001b[0m:\u001b[36m501\u001b[0m - \u001b[33m\u001b[1mbomb_defused not found in events.\u001b[0m\n"
     ]
    },
    {
     "name": "stdout",
     "output_type": "stream",
     "text": [
      "her1\n",
      "her2\n",
      "..\\..\\demos\\spirit-vs-faze-m2-nuke.dem\n",
      "her1\n",
      "her2\n",
      "..\\..\\demos\\spirit-vs-faze-m3-vertigo.dem\n",
      "her1\n"
     ]
    },
    {
     "name": "stderr",
     "output_type": "stream",
     "text": [
      "INFO patool: Extracting ..\\..\\demos\\pgl-cs2-major-copenhagen-2024-spirit-vs-natus-vincere-bo3-Fhg0nJv42VVzqoNJNMjJrC.rar ...\n",
      "INFO patool: running \"C:\\Program Files\\7-Zip\\7z.EXE\" x -o..\\..\\demos -- ..\\..\\demos\\pgl-cs2-major-copenhagen-2024-spirit-vs-natus-vincere-bo3-Fhg0nJv42VVzqoNJNMjJrC.rar\n",
      "INFO patool:     with input=\n"
     ]
    },
    {
     "name": "stdout",
     "output_type": "stream",
     "text": [
      "her2\n",
      "Unzipping <class 'zip'>\n"
     ]
    },
    {
     "name": "stderr",
     "output_type": "stream",
     "text": [
      "INFO patool: ... ..\\..\\demos\\pgl-cs2-major-copenhagen-2024-spirit-vs-natus-vincere-bo3-Fhg0nJv42VVzqoNJNMjJrC.rar extracted to `..\\..\\demos'.\n"
     ]
    },
    {
     "name": "stdout",
     "output_type": "stream",
     "text": [
      "..\\..\\demos\\spirit-vs-natus-vincere-m1-nuke.dem\n",
      "her1\n",
      "her2\n",
      "..\\..\\demos\\spirit-vs-natus-vincere-m2-ancient.dem\n",
      "her1\n",
      "her2\n",
      "..\\..\\demos\\spirit-vs-natus-vincere-m3-mirage.dem\n",
      "her1\n"
     ]
    },
    {
     "name": "stderr",
     "output_type": "stream",
     "text": [
      "INFO patool: Extracting ..\\..\\demos\\pgl-cs2-major-copenhagen-2024-virtuspro-vs-g2-bo3-_HljkSgUssxnv7gY6zueWR.rar ...\n",
      "INFO patool: running \"C:\\Program Files\\7-Zip\\7z.EXE\" x -o..\\..\\demos -- ..\\..\\demos\\pgl-cs2-major-copenhagen-2024-virtuspro-vs-g2-bo3-_HljkSgUssxnv7gY6zueWR.rar\n",
      "INFO patool:     with input=\n"
     ]
    },
    {
     "name": "stdout",
     "output_type": "stream",
     "text": [
      "her2\n",
      "Unzipping <class 'zip'>\n"
     ]
    },
    {
     "name": "stderr",
     "output_type": "stream",
     "text": [
      "INFO patool: ... ..\\..\\demos\\pgl-cs2-major-copenhagen-2024-virtuspro-vs-g2-bo3-_HljkSgUssxnv7gY6zueWR.rar extracted to `..\\..\\demos'.\n"
     ]
    },
    {
     "name": "stdout",
     "output_type": "stream",
     "text": [
      "..\\..\\demos\\virtus-pro-vs-g2-m1-overpass.dem\n",
      "her1\n",
      "her2\n",
      "..\\..\\demos\\virtus-pro-vs-g2-m2-inferno.dem\n",
      "her1\n",
      "her2\n",
      "..\\..\\demos\\virtus-pro-vs-g2-m3-anubis.dem\n",
      "her1\n"
     ]
    },
    {
     "name": "stderr",
     "output_type": "stream",
     "text": [
      "INFO patool: Extracting ..\\..\\demos\\pgl-cs2-major-copenhagen-2024-vitality-vs-eternal-fire-inferno-QBb8rgnBMHzXVHQ7TZ2P3c.rar ...\n",
      "INFO patool: running \"C:\\Program Files\\7-Zip\\7z.EXE\" x -o..\\..\\demos -- ..\\..\\demos\\pgl-cs2-major-copenhagen-2024-vitality-vs-eternal-fire-inferno-QBb8rgnBMHzXVHQ7TZ2P3c.rar\n",
      "INFO patool:     with input=\n"
     ]
    },
    {
     "name": "stdout",
     "output_type": "stream",
     "text": [
      "her2\n",
      "Unzipping <class 'zip'>\n"
     ]
    },
    {
     "name": "stderr",
     "output_type": "stream",
     "text": [
      "INFO patool: ... ..\\..\\demos\\pgl-cs2-major-copenhagen-2024-vitality-vs-eternal-fire-inferno-QBb8rgnBMHzXVHQ7TZ2P3c.rar extracted to `..\\..\\demos'.\n"
     ]
    },
    {
     "name": "stdout",
     "output_type": "stream",
     "text": [
      "..\\..\\demos\\vitality-vs-eternal-fire-inferno.dem\n",
      "her1\n"
     ]
    },
    {
     "name": "stderr",
     "output_type": "stream",
     "text": [
      "C:\\Users\\Baht\\AppData\\Local\\Temp\\ipykernel_23980\\59082995.py:44: SettingWithCopyWarning: \n",
      "A value is trying to be set on a copy of a slice from a DataFrame.\n",
      "Try using .loc[row_indexer,col_indexer] = value instead\n",
      "\n",
      "See the caveats in the documentation: https://pandas.pydata.org/pandas-docs/stable/user_guide/indexing.html#returning-a-view-versus-a-copy\n",
      "  player_df['position_players_thrown'] = list(zip(player_df['X_players_thrown'], player_df['Y_players_thrown'], player_df['Z_players_thrown']))\n",
      "INFO patool: Extracting ..\\..\\demos\\pgl-cs2-major-copenhagen-2024-vitality-vs-faze-bo3-jlkLGLV1kDcMWp0cgIFaOA.rar ...\n",
      "INFO patool: running \"C:\\Program Files\\7-Zip\\7z.EXE\" x -o..\\..\\demos -- ..\\..\\demos\\pgl-cs2-major-copenhagen-2024-vitality-vs-faze-bo3-jlkLGLV1kDcMWp0cgIFaOA.rar\n",
      "INFO patool:     with input=\n"
     ]
    },
    {
     "name": "stdout",
     "output_type": "stream",
     "text": [
      "her2\n",
      "Unzipping <class 'zip'>\n"
     ]
    },
    {
     "name": "stderr",
     "output_type": "stream",
     "text": [
      "INFO patool: ... ..\\..\\demos\\pgl-cs2-major-copenhagen-2024-vitality-vs-faze-bo3-jlkLGLV1kDcMWp0cgIFaOA.rar extracted to `..\\..\\demos'.\n"
     ]
    },
    {
     "name": "stdout",
     "output_type": "stream",
     "text": [
      "..\\..\\demos\\vitality-vs-faze-m1-nuke.dem\n",
      "her1\n",
      "her2\n",
      "..\\..\\demos\\vitality-vs-faze-m2-vertigo.dem\n",
      "her1\n",
      "her2\n",
      "..\\..\\demos\\vitality-vs-faze-m3-inferno.dem\n",
      "her1\n"
     ]
    },
    {
     "name": "stderr",
     "output_type": "stream",
     "text": [
      "INFO patool: Extracting ..\\..\\demos\\pgl-cs2-major-copenhagen-2024-vitality-vs-themongolz-nuke-SvFXnv7ucRjp9XGR_iCohI.rar ...\n",
      "INFO patool: running \"C:\\Program Files\\7-Zip\\7z.EXE\" x -o..\\..\\demos -- ..\\..\\demos\\pgl-cs2-major-copenhagen-2024-vitality-vs-themongolz-nuke-SvFXnv7ucRjp9XGR_iCohI.rar\n",
      "INFO patool:     with input=\n"
     ]
    },
    {
     "name": "stdout",
     "output_type": "stream",
     "text": [
      "her2\n",
      "Unzipping <class 'zip'>\n"
     ]
    },
    {
     "name": "stderr",
     "output_type": "stream",
     "text": [
      "INFO patool: ... ..\\..\\demos\\pgl-cs2-major-copenhagen-2024-vitality-vs-themongolz-nuke-SvFXnv7ucRjp9XGR_iCohI.rar extracted to `..\\..\\demos'.\n"
     ]
    },
    {
     "name": "stdout",
     "output_type": "stream",
     "text": [
      "..\\..\\demos\\vitality-vs-themongolz-nuke.dem\n",
      "her1\n"
     ]
    },
    {
     "name": "stderr",
     "output_type": "stream",
     "text": [
      "INFO patool: Extracting ..\\..\\demos\\res-regional-series-3-latam-pain-vs-imperial-bo3-eTuuylcqOsfPslUPTOj5GV.rar ...\n",
      "INFO patool: running \"C:\\Program Files\\7-Zip\\7z.EXE\" x -o..\\..\\demos -- ..\\..\\demos\\res-regional-series-3-latam-pain-vs-imperial-bo3-eTuuylcqOsfPslUPTOj5GV.rar\n",
      "INFO patool:     with input=\n"
     ]
    },
    {
     "name": "stdout",
     "output_type": "stream",
     "text": [
      "her2\n",
      "Unzipping <class 'zip'>\n"
     ]
    },
    {
     "name": "stderr",
     "output_type": "stream",
     "text": [
      "INFO patool: ... ..\\..\\demos\\res-regional-series-3-latam-pain-vs-imperial-bo3-eTuuylcqOsfPslUPTOj5GV.rar extracted to `..\\..\\demos'.\n"
     ]
    },
    {
     "name": "stdout",
     "output_type": "stream",
     "text": [
      "..\\..\\demos\\pain-vs-imperial-m1-nuke.dem\n",
      "her1\n",
      "her2\n",
      "..\\..\\demos\\pain-vs-imperial-m2-mirage.dem\n",
      "her1\n",
      "her2\n",
      "..\\..\\demos\\pain-vs-imperial-m3-inferno.dem\n",
      "her1\n",
      "her2\n"
     ]
    }
   ],
   "source": [
    "import pandas as pd\n",
    "import patoolib\n",
    "data_dir = \"..\\\\..\\\\demos\"\n",
    "zip_files = [zip_file for zip_file in os.listdir(data_dir) if zip_file.endswith(\".rar\")]\n",
    "data_list = []\n",
    "for zip_file in zip_files:\n",
    "    if zip_file.endswith(\".rar\"):\n",
    "        print(f\"Unzipping {zip}\")\n",
    "        patoolib.extract_archive(os.path.join(data_dir,zip_file), outdir=data_dir)\n",
    "    dem_files = [dem for dem in os.listdir(data_dir) if dem.endswith(\".dem\")]\n",
    "    for demo in dem_files:\n",
    "        path = os.path.join(data_dir,demo)\n",
    "        print(path)\n",
    "        try:\n",
    "            dem = Demo(file=path)\n",
    "            df = parse_demo(dem,maximum_roundtime = 120,rotate_seconds = 15)\n",
    "            data_list.append(df)\n",
    "        except Exception as e:\n",
    "            print(f\"Error: {e}\")\n",
    "        finally:\n",
    "            os.remove(path)\n",
    "\n",
    "df = pd.concat(data_list).reset_index(drop=True)"
   ]
  },
  {
   "cell_type": "code",
   "execution_count": 7,
   "id": "428ae732",
   "metadata": {},
   "outputs": [
    {
     "data": {
      "text/html": [
       "<div>\n",
       "<style scoped>\n",
       "    .dataframe tbody tr th:only-of-type {\n",
       "        vertical-align: middle;\n",
       "    }\n",
       "\n",
       "    .dataframe tbody tr th {\n",
       "        vertical-align: top;\n",
       "    }\n",
       "\n",
       "    .dataframe thead th {\n",
       "        text-align: right;\n",
       "    }\n",
       "</style>\n",
       "<table border=\"1\" class=\"dataframe\">\n",
       "  <thead>\n",
       "    <tr style=\"text-align: right;\">\n",
       "      <th></th>\n",
       "      <th>map_name</th>\n",
       "      <th>entity_id</th>\n",
       "      <th>round</th>\n",
       "      <th>throwSeconds</th>\n",
       "      <th>grenade_type</th>\n",
       "      <th>throwerName</th>\n",
       "      <th>throwerTeam</th>\n",
       "      <th>throwerBuyType</th>\n",
       "      <th>opponentTeam</th>\n",
       "      <th>opponentBuyType</th>\n",
       "      <th>throwerSide</th>\n",
       "      <th>throwCords</th>\n",
       "      <th>landCords</th>\n",
       "      <th>starting_positions</th>\n",
       "      <th>dead_players</th>\n",
       "      <th>alive_players</th>\n",
       "    </tr>\n",
       "  </thead>\n",
       "  <tbody>\n",
       "    <tr>\n",
       "      <th>0</th>\n",
       "      <td>de_inferno</td>\n",
       "      <td>68</td>\n",
       "      <td>8</td>\n",
       "      <td>24.890625</td>\n",
       "      <td>molotov</td>\n",
       "      <td>nyezin</td>\n",
       "      <td>paiN</td>\n",
       "      <td>full</td>\n",
       "      <td>Imperial</td>\n",
       "      <td>full</td>\n",
       "      <td>CT</td>\n",
       "      <td>(1560.4774169921875, 92.0494155883789, 132.03125)</td>\n",
       "      <td>(1335.59375, 304.59375, 130.03125)</td>\n",
       "      <td>[(1560.4774169921875, 92.0494155883789, 132.03...</td>\n",
       "      <td>[(341.71533203125, 1680.1881103515625, 131.921...</td>\n",
       "      <td>[(1476.939208984375, -82.54473876953125, 132.0...</td>\n",
       "    </tr>\n",
       "    <tr>\n",
       "      <th>1</th>\n",
       "      <td>de_inferno</td>\n",
       "      <td>89</td>\n",
       "      <td>15</td>\n",
       "      <td>62.734375</td>\n",
       "      <td>smoke</td>\n",
       "      <td>decenty</td>\n",
       "      <td>Imperial</td>\n",
       "      <td>full</td>\n",
       "      <td>paiN</td>\n",
       "      <td>full</td>\n",
       "      <td>CT</td>\n",
       "      <td>(1366.7225341796875, 420.350830078125, 129.03125)</td>\n",
       "      <td>(125.9375, 773.8125, 81.5625)</td>\n",
       "      <td>[(1366.7225341796875, 420.350830078125, 129.03...</td>\n",
       "      <td>[(645.6950073242188, 2044.5159912109375, 136.0...</td>\n",
       "      <td>[(2180.668701171875, 2401.213623046875, 187.60...</td>\n",
       "    </tr>\n",
       "    <tr>\n",
       "      <th>2</th>\n",
       "      <td>de_inferno</td>\n",
       "      <td>102</td>\n",
       "      <td>18</td>\n",
       "      <td>84.90625</td>\n",
       "      <td>molotov</td>\n",
       "      <td>biguzera</td>\n",
       "      <td>paiN</td>\n",
       "      <td>full</td>\n",
       "      <td>Imperial</td>\n",
       "      <td>full</td>\n",
       "      <td>TERRORIST</td>\n",
       "      <td>(479.0244140625, 2016.96875, 136.0312042236328)</td>\n",
       "      <td>(113.1875, 2556.625, 170.15625)</td>\n",
       "      <td>[(1265.96875, 365.9687194824219, 129.525863647...</td>\n",
       "      <td>NaN</td>\n",
       "      <td>[(876.0958862304688, 61.241310119628906, 204.0...</td>\n",
       "    </tr>\n",
       "    <tr>\n",
       "      <th>3</th>\n",
       "      <td>de_inferno</td>\n",
       "      <td>114</td>\n",
       "      <td>18</td>\n",
       "      <td>61.25</td>\n",
       "      <td>smoke</td>\n",
       "      <td>noway</td>\n",
       "      <td>Imperial</td>\n",
       "      <td>full</td>\n",
       "      <td>paiN</td>\n",
       "      <td>full</td>\n",
       "      <td>CT</td>\n",
       "      <td>(930.5641479492188, 2731.20068359375, 133.7768...</td>\n",
       "      <td>(739.90625, 2329.8125, 138.03125)</td>\n",
       "      <td>[(1213.080322265625, 169.05128479003906, 206.1...</td>\n",
       "      <td>[(1213.080322265625, 169.05128479003906, 206.1...</td>\n",
       "      <td>[(2553.89013671875, 1329.1119384765625, 160.03...</td>\n",
       "    </tr>\n",
       "    <tr>\n",
       "      <th>4</th>\n",
       "      <td>de_inferno</td>\n",
       "      <td>144</td>\n",
       "      <td>17</td>\n",
       "      <td>15.0625</td>\n",
       "      <td>smoke</td>\n",
       "      <td>nyezin</td>\n",
       "      <td>paiN</td>\n",
       "      <td>full</td>\n",
       "      <td>Imperial</td>\n",
       "      <td>full</td>\n",
       "      <td>TERRORIST</td>\n",
       "      <td>(872.96875, 43.96869659423828, 135.27679443359...</td>\n",
       "      <td>(1400.125, 1021.1875, 156.34375)</td>\n",
       "      <td>[(872.96875, 43.96869659423828, 135.2767944335...</td>\n",
       "      <td>NaN</td>\n",
       "      <td>[(1207.16748046875, 565.2262573242188, 122.967...</td>\n",
       "    </tr>\n",
       "    <tr>\n",
       "      <th>...</th>\n",
       "      <td>...</td>\n",
       "      <td>...</td>\n",
       "      <td>...</td>\n",
       "      <td>...</td>\n",
       "      <td>...</td>\n",
       "      <td>...</td>\n",
       "      <td>...</td>\n",
       "      <td>...</td>\n",
       "      <td>...</td>\n",
       "      <td>...</td>\n",
       "      <td>...</td>\n",
       "      <td>...</td>\n",
       "      <td>...</td>\n",
       "      <td>...</td>\n",
       "      <td>...</td>\n",
       "      <td>...</td>\n",
       "    </tr>\n",
       "    <tr>\n",
       "      <th>32182</th>\n",
       "      <td>de_inferno</td>\n",
       "      <td>1520</td>\n",
       "      <td>4</td>\n",
       "      <td>35.46875</td>\n",
       "      <td>smoke</td>\n",
       "      <td>HEN1-</td>\n",
       "      <td>Imperial</td>\n",
       "      <td>force</td>\n",
       "      <td>paiN Gaming</td>\n",
       "      <td>full</td>\n",
       "      <td>CT</td>\n",
       "      <td>(1508.730712890625, 1042.893798828125, 156.861...</td>\n",
       "      <td>(1230.3125, 504.125, 117.5625)</td>\n",
       "      <td>[(1850.9664306640625, -173.338134765625, 260.0...</td>\n",
       "      <td>[(665.3968505859375, 2720.89306640625, 146.224...</td>\n",
       "      <td>[(864.4584350585938, -346.825439453125, 89.031...</td>\n",
       "    </tr>\n",
       "    <tr>\n",
       "      <th>32183</th>\n",
       "      <td>de_inferno</td>\n",
       "      <td>1528</td>\n",
       "      <td>4</td>\n",
       "      <td>47.78125</td>\n",
       "      <td>smoke</td>\n",
       "      <td>VINI</td>\n",
       "      <td>Imperial</td>\n",
       "      <td>force</td>\n",
       "      <td>paiN Gaming</td>\n",
       "      <td>full</td>\n",
       "      <td>CT</td>\n",
       "      <td>(682.7188720703125, 3555.591796875, 141.03125)</td>\n",
       "      <td>(229.53125, 2853.21875, 163.53125)</td>\n",
       "      <td>[(963.9238891601562, -647.1146240234375, 97.54...</td>\n",
       "      <td>[(665.3968505859375, 2720.89306640625, 146.224...</td>\n",
       "      <td>[(288.4042053222656, 685.6383056640625, 26.943...</td>\n",
       "    </tr>\n",
       "    <tr>\n",
       "      <th>32184</th>\n",
       "      <td>de_inferno</td>\n",
       "      <td>1531</td>\n",
       "      <td>4</td>\n",
       "      <td>49.5625</td>\n",
       "      <td>molotov</td>\n",
       "      <td>biguzera</td>\n",
       "      <td>paiN Gaming</td>\n",
       "      <td>full</td>\n",
       "      <td>Imperial</td>\n",
       "      <td>force</td>\n",
       "      <td>TERRORIST</td>\n",
       "      <td>(329.98138427734375, 3074.42431640625, 168.459...</td>\n",
       "      <td>(726.0, 3377.96875, 132.5)</td>\n",
       "      <td>[(641.1748657226562, 2456.225341796875, 189.03...</td>\n",
       "      <td>[(314.4516906738281, 2590.59375, 164.03125)]</td>\n",
       "      <td>[(738.927001953125, 2197.48388671875, 136.0312...</td>\n",
       "    </tr>\n",
       "    <tr>\n",
       "      <th>32185</th>\n",
       "      <td>de_inferno</td>\n",
       "      <td>1533</td>\n",
       "      <td>4</td>\n",
       "      <td>57.875</td>\n",
       "      <td>smoke</td>\n",
       "      <td>kauez</td>\n",
       "      <td>paiN Gaming</td>\n",
       "      <td>full</td>\n",
       "      <td>Imperial</td>\n",
       "      <td>force</td>\n",
       "      <td>TERRORIST</td>\n",
       "      <td>(755.7681884765625, 2858.639892578125, 139.581...</td>\n",
       "      <td>(1007.46875, 2697.8125, 132.21875)</td>\n",
       "      <td>[(721.9446411132812, 2266.39990234375, 136.031...</td>\n",
       "      <td>[(314.4516906738281, 2590.59375, 164.03125)]</td>\n",
       "      <td>[(152.00033569335938, 1231.624267578125, 94.83...</td>\n",
       "    </tr>\n",
       "    <tr>\n",
       "      <th>32186</th>\n",
       "      <td>de_inferno</td>\n",
       "      <td>1534</td>\n",
       "      <td>17</td>\n",
       "      <td>25.34375</td>\n",
       "      <td>molotov</td>\n",
       "      <td>biguzera</td>\n",
       "      <td>paiN Gaming</td>\n",
       "      <td>full</td>\n",
       "      <td>Imperial</td>\n",
       "      <td>full</td>\n",
       "      <td>CT</td>\n",
       "      <td>(537.22021484375, 3094.03125, 258.6226501464844)</td>\n",
       "      <td>(311.53125, 1736.34375, 219.96875)</td>\n",
       "      <td>[(1459.17041015625, -89.9686279296875, 132.031...</td>\n",
       "      <td>[(900.46142578125, 2174.469482421875, 136.3662...</td>\n",
       "      <td>[(1387.6680908203125, -85.0673828125, 132.0312...</td>\n",
       "    </tr>\n",
       "  </tbody>\n",
       "</table>\n",
       "<p>32187 rows × 16 columns</p>\n",
       "</div>"
      ],
      "text/plain": [
       "         map_name  entity_id  round  throwSeconds grenade_type throwerName  \\\n",
       "0      de_inferno         68      8     24.890625      molotov      nyezin   \n",
       "1      de_inferno         89     15     62.734375        smoke     decenty   \n",
       "2      de_inferno        102     18      84.90625      molotov    biguzera   \n",
       "3      de_inferno        114     18         61.25        smoke       noway   \n",
       "4      de_inferno        144     17       15.0625        smoke      nyezin   \n",
       "...           ...        ...    ...           ...          ...         ...   \n",
       "32182  de_inferno       1520      4      35.46875        smoke       HEN1-   \n",
       "32183  de_inferno       1528      4      47.78125        smoke        VINI   \n",
       "32184  de_inferno       1531      4       49.5625      molotov    biguzera   \n",
       "32185  de_inferno       1533      4        57.875        smoke       kauez   \n",
       "32186  de_inferno       1534     17      25.34375      molotov    biguzera   \n",
       "\n",
       "       throwerTeam throwerBuyType opponentTeam opponentBuyType throwerSide  \\\n",
       "0             paiN           full     Imperial            full          CT   \n",
       "1         Imperial           full         paiN            full          CT   \n",
       "2             paiN           full     Imperial            full   TERRORIST   \n",
       "3         Imperial           full         paiN            full          CT   \n",
       "4             paiN           full     Imperial            full   TERRORIST   \n",
       "...            ...            ...          ...             ...         ...   \n",
       "32182     Imperial          force  paiN Gaming            full          CT   \n",
       "32183     Imperial          force  paiN Gaming            full          CT   \n",
       "32184  paiN Gaming           full     Imperial           force   TERRORIST   \n",
       "32185  paiN Gaming           full     Imperial           force   TERRORIST   \n",
       "32186  paiN Gaming           full     Imperial            full          CT   \n",
       "\n",
       "                                              throwCords  \\\n",
       "0      (1560.4774169921875, 92.0494155883789, 132.03125)   \n",
       "1      (1366.7225341796875, 420.350830078125, 129.03125)   \n",
       "2        (479.0244140625, 2016.96875, 136.0312042236328)   \n",
       "3      (930.5641479492188, 2731.20068359375, 133.7768...   \n",
       "4      (872.96875, 43.96869659423828, 135.27679443359...   \n",
       "...                                                  ...   \n",
       "32182  (1508.730712890625, 1042.893798828125, 156.861...   \n",
       "32183     (682.7188720703125, 3555.591796875, 141.03125)   \n",
       "32184  (329.98138427734375, 3074.42431640625, 168.459...   \n",
       "32185  (755.7681884765625, 2858.639892578125, 139.581...   \n",
       "32186   (537.22021484375, 3094.03125, 258.6226501464844)   \n",
       "\n",
       "                                landCords  \\\n",
       "0      (1335.59375, 304.59375, 130.03125)   \n",
       "1           (125.9375, 773.8125, 81.5625)   \n",
       "2         (113.1875, 2556.625, 170.15625)   \n",
       "3       (739.90625, 2329.8125, 138.03125)   \n",
       "4        (1400.125, 1021.1875, 156.34375)   \n",
       "...                                   ...   \n",
       "32182      (1230.3125, 504.125, 117.5625)   \n",
       "32183  (229.53125, 2853.21875, 163.53125)   \n",
       "32184          (726.0, 3377.96875, 132.5)   \n",
       "32185  (1007.46875, 2697.8125, 132.21875)   \n",
       "32186  (311.53125, 1736.34375, 219.96875)   \n",
       "\n",
       "                                      starting_positions  \\\n",
       "0      [(1560.4774169921875, 92.0494155883789, 132.03...   \n",
       "1      [(1366.7225341796875, 420.350830078125, 129.03...   \n",
       "2      [(1265.96875, 365.9687194824219, 129.525863647...   \n",
       "3      [(1213.080322265625, 169.05128479003906, 206.1...   \n",
       "4      [(872.96875, 43.96869659423828, 135.2767944335...   \n",
       "...                                                  ...   \n",
       "32182  [(1850.9664306640625, -173.338134765625, 260.0...   \n",
       "32183  [(963.9238891601562, -647.1146240234375, 97.54...   \n",
       "32184  [(641.1748657226562, 2456.225341796875, 189.03...   \n",
       "32185  [(721.9446411132812, 2266.39990234375, 136.031...   \n",
       "32186  [(1459.17041015625, -89.9686279296875, 132.031...   \n",
       "\n",
       "                                            dead_players  \\\n",
       "0      [(341.71533203125, 1680.1881103515625, 131.921...   \n",
       "1      [(645.6950073242188, 2044.5159912109375, 136.0...   \n",
       "2                                                    NaN   \n",
       "3      [(1213.080322265625, 169.05128479003906, 206.1...   \n",
       "4                                                    NaN   \n",
       "...                                                  ...   \n",
       "32182  [(665.3968505859375, 2720.89306640625, 146.224...   \n",
       "32183  [(665.3968505859375, 2720.89306640625, 146.224...   \n",
       "32184       [(314.4516906738281, 2590.59375, 164.03125)]   \n",
       "32185       [(314.4516906738281, 2590.59375, 164.03125)]   \n",
       "32186  [(900.46142578125, 2174.469482421875, 136.3662...   \n",
       "\n",
       "                                           alive_players  \n",
       "0      [(1476.939208984375, -82.54473876953125, 132.0...  \n",
       "1      [(2180.668701171875, 2401.213623046875, 187.60...  \n",
       "2      [(876.0958862304688, 61.241310119628906, 204.0...  \n",
       "3      [(2553.89013671875, 1329.1119384765625, 160.03...  \n",
       "4      [(1207.16748046875, 565.2262573242188, 122.967...  \n",
       "...                                                  ...  \n",
       "32182  [(864.4584350585938, -346.825439453125, 89.031...  \n",
       "32183  [(288.4042053222656, 685.6383056640625, 26.943...  \n",
       "32184  [(738.927001953125, 2197.48388671875, 136.0312...  \n",
       "32185  [(152.00033569335938, 1231.624267578125, 94.83...  \n",
       "32186  [(1387.6680908203125, -85.0673828125, 132.0312...  \n",
       "\n",
       "[32187 rows x 16 columns]"
      ]
     },
     "execution_count": 7,
     "metadata": {},
     "output_type": "execute_result"
    }
   ],
   "source": [
    "df "
   ]
  },
  {
   "cell_type": "code",
   "execution_count": 8,
   "id": "4395193c",
   "metadata": {},
   "outputs": [],
   "source": [
    "df.to_json('../data/parsed_util.json')"
   ]
  }
 ],
 "metadata": {
  "kernelspec": {
   "display_name": "Python 3 (ipykernel)",
   "language": "python",
   "name": "python3"
  },
  "language_info": {
   "codemirror_mode": {
    "name": "ipython",
    "version": 3
   },
   "file_extension": ".py",
   "mimetype": "text/x-python",
   "name": "python",
   "nbconvert_exporter": "python",
   "pygments_lexer": "ipython3",
   "version": "3.12.3"
  },
  "vscode": {
   "interpreter": {
    "hash": "5a7ad4696ae479ce109d2f1aeb821de620ece486fb5205106f83339263f88b06"
   }
  }
 },
 "nbformat": 4,
 "nbformat_minor": 5
}
